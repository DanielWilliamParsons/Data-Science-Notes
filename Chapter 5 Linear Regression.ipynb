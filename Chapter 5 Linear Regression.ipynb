{
 "cells": [
  {
   "cell_type": "markdown",
   "metadata": {},
   "source": [
    "# Linear Regression\n",
    "Goal is to predict the value of a dependent (target) variable based on independent (predictor) variables. Linear regression model looks like this:\n",
    "\n",
    "$$ \\hat y = \\hat w_{0} + \\hat w_{1}x_{1} + \\hat w_{2}x_{2} + ... + \\hat w_{m}x_{m} $$\n",
    "\n",
    "where the coefficients $\\hat w_{0}$ is the bias and $\\hat w_{1}, \\hat w_{2} ..., \\hat w_{m}$ are the estimated weights."
   ]
  },
  {
   "cell_type": "markdown",
   "metadata": {},
   "source": [
    "### Simple linear regression model\n",
    "\n",
    "Given data $x$ and $y$, we can plot a scatter chart such as for the following small dataset where $x$ is the year and $y$ is the revenue of a company:"
   ]
  },
  {
   "cell_type": "code",
   "execution_count": 3,
   "metadata": {},
   "outputs": [
    {
     "name": "stdout",
     "output_type": "stream",
     "text": [
      "      X   Y\n",
      "0  2018  50\n",
      "1  2019  54\n",
      "2  2020  58\n",
      "3  2021  55\n",
      "4  2022  60\n"
     ]
    }
   ],
   "source": [
    "import pandas as pd\n",
    "import matplotlib.pyplot as plt\n",
    "\n",
    "data = [\n",
    "    {'X': 2018, 'Y': 50},\n",
    "    {'X': 2019, 'Y': 54},\n",
    "    {'X': 2020, 'Y': 58},\n",
    "    {'X': 2021, 'Y': 55},\n",
    "    {'X': 2022, 'Y': 60},\n",
    "]\n",
    "\n",
    "df = pd.DataFrame(data)\n",
    "print(df)"
   ]
  },
  {
   "cell_type": "markdown",
   "metadata": {},
   "source": [
    "![alt text](images/5.3%20Linear%20Regression.png 'Linear Regression')\n",
    "\n",
    "The image above shows that the true value for $y$ under the assumptions of a linear relationship and the estimated value $\\hat y$ are often different due to noise in the data, i.e., there will be a random error term $\\epsilon$ such that:\n",
    "\n",
    "$$y = w_{0} + w_{1}x + \\epsilon$$\n",
    "\n",
    "where the bias $w_{0}$ is the intercept and $w_{1}$ is the model slope. In a linear regression model, the best model is one that minimizes the error term values for each data point. So, we wish to find the coefficients which minimize this error. We can use the least squares method to do this.\n",
    "\n",
    "Given $y_{i} = w_{0} + w_{1}x_{i} +\\epsilon , i = 1 ... n$\n",
    "$$\\sum_{i=1}^{n}\\epsilon^{2} = \\sum_{i=1}^{n}(y_{i} - w_{0} - w_{1}x_{i})$$\n",
    "\n",
    "and we can calculate the following:\n",
    "\n",
    "$$\\frac{\\partial}{\\partial w_{0}} \\sum_{i=1}^{n}\\epsilon^{2} = 0$$\n",
    "and\n",
    "$$\\frac{\\partial}{\\partial w_{1}} \\sum_{i=1}^{n}\\epsilon^{2} = 0$$\n",
    "\n",
    "Doing a whole bunch of tedious maths on these two terms leads to the following results:\n",
    "\n",
    "$$w_{0} = \\frac{1}{n}\\sum_{i=1}^{n}y_{i} - w_{1}\\frac{1}{n}\\sum_{1=2}^{n}x_{i}$$\n",
    "and\n",
    "$$w_{1} = \\frac{\\sum_{i=1}^{n}y_{i}x_{i} - \\frac{(\\sum_{i=1}^{n}y_{i})(\\sum_{i=1}^{n}x_{i})}{n} }{\\sum_{i=1}^{n}x_{i}^{2} - \\frac{(\\sum_{i=1}^{n}x_i)^{2}}{n}}$$"
   ]
  },
  {
   "cell_type": "markdown",
   "metadata": {},
   "source": [
    "Calculating each term individually is simple using the dataframe from earlier."
   ]
  },
  {
   "cell_type": "code",
   "execution_count": 5,
   "metadata": {},
   "outputs": [
    {
     "name": "stdout",
     "output_type": "stream",
     "text": [
      "      X   Y      YX       X2\n",
      "0  2018  50  100900  4072324\n",
      "1  2019  54  109026  4076361\n",
      "2  2020  58  117160  4080400\n",
      "3  2021  55  111155  4084441\n",
      "4  2022  60  121320  4088484\n"
     ]
    }
   ],
   "source": [
    "df['YX'] = df['Y']*df['X']\n",
    "df['X2'] = df['X']*df['X']\n",
    "print(df)"
   ]
  },
  {
   "cell_type": "code",
   "execution_count": 13,
   "metadata": {},
   "outputs": [
    {
     "name": "stdout",
     "output_type": "stream",
     "text": [
      "2.1\n"
     ]
    }
   ],
   "source": [
    "sum_yx = sum(df['YX'])\n",
    "sumy_sumx = sum(df['X'])*sum(df['Y'])\n",
    "sum_x2 = sum(df['X2'])\n",
    "sum_x_2 = (sum(df['X']))*(sum(df['X']))\n",
    "\n",
    "w1 = (sum_yx - (sumy_sumx / len(df.index))) / (sum_x2 - (sum_x_2 / len(df.index)))\n",
    "print(w1)"
   ]
  },
  {
   "cell_type": "code",
   "execution_count": 14,
   "metadata": {},
   "outputs": [
    {
     "name": "stdout",
     "output_type": "stream",
     "text": [
      "-4186.6\n"
     ]
    }
   ],
   "source": [
    "w0 = sum(df['Y']) / (len(df.index)) - (w1/len(df.index))*sum(df['X'])\n",
    "print(w0)"
   ]
  },
  {
   "cell_type": "markdown",
   "metadata": {},
   "source": [
    "This means that we now have a linear equation as follows:\n",
    "\n",
    "$\\hat y = -4186.6 + 2.1\\cdot x$"
   ]
  },
  {
   "cell_type": "markdown",
   "metadata": {},
   "source": [
    "So, in 2024, the predicted revenue is 78.5 million dollars.\n",
    "Of course, we also need to assess the performance and reliability of the linear regression model on unseen data using model validation techniques. It is possible to gain confidence in the ability to make accurate predictions."
   ]
  },
  {
   "cell_type": "markdown",
   "metadata": {},
   "source": []
  }
 ],
 "metadata": {
  "kernelspec": {
   "display_name": "Python 3",
   "language": "python",
   "name": "python3"
  },
  "language_info": {
   "codemirror_mode": {
    "name": "ipython",
    "version": 3
   },
   "file_extension": ".py",
   "mimetype": "text/x-python",
   "name": "python",
   "nbconvert_exporter": "python",
   "pygments_lexer": "ipython3",
   "version": "3.9.6"
  }
 },
 "nbformat": 4,
 "nbformat_minor": 2
}
