{
 "cells": [
  {
   "cell_type": "markdown",
   "metadata": {},
   "source": [
    "# Linear Regression\n",
    "Goal is to predict the value of a dependent (target) variable based on independent (predictor) variables. Linear regression model looks like this:\n",
    "\n",
    "$$ \\hat y = \\hat w_{0} + \\hat w_{1}x_{1} + \\hat w_{2}x_{2} + ... + \\hat w_{m}x_{m} $$\n",
    "\n",
    "where the coefficients $\\hat w_{0}$ is the bias and $\\hat w_{1}, \\hat w_{2} ..., \\hat w_{m}$ are the estimated weights."
   ]
  },
  {
   "cell_type": "markdown",
   "metadata": {},
   "source": [
    "### Simple linear regression model - overview\n",
    "\n",
    "Given data $x$ and $y$, we can plot a scatter chart such as for the following small dataset where $x$ is the year and $y$ is the revenue of a company:"
   ]
  },
  {
   "cell_type": "code",
   "execution_count": 3,
   "metadata": {},
   "outputs": [
    {
     "name": "stdout",
     "output_type": "stream",
     "text": [
      "      X   Y\n",
      "0  2018  50\n",
      "1  2019  54\n",
      "2  2020  58\n",
      "3  2021  55\n",
      "4  2022  60\n"
     ]
    }
   ],
   "source": [
    "import pandas as pd\n",
    "import matplotlib.pyplot as plt\n",
    "\n",
    "data = [\n",
    "    {'X': 2018, 'Y': 50},\n",
    "    {'X': 2019, 'Y': 54},\n",
    "    {'X': 2020, 'Y': 58},\n",
    "    {'X': 2021, 'Y': 55},\n",
    "    {'X': 2022, 'Y': 60},\n",
    "]\n",
    "\n",
    "df = pd.DataFrame(data)\n",
    "print(df)"
   ]
  },
  {
   "cell_type": "markdown",
   "metadata": {},
   "source": [
    "![alt text](images/5.3%20Linear%20Regression.png 'Linear Regression')\n",
    "\n",
    "The image above shows that the true value for $y$ under the assumptions of a linear relationship and the estimated value $\\hat y$ are often different due to noise in the data, i.e., there will be a random error term $\\epsilon$ such that:\n",
    "\n",
    "$$y = w_{0} + w_{1}x + \\epsilon$$\n",
    "\n",
    "where the bias $w_{0}$ is the intercept and $w_{1}$ is the model slope. In a linear regression model, the best model is one that minimizes the error term values for each data point. So, we wish to find the coefficients which minimize this error. We can use the least squares method to do this.\n",
    "\n",
    "Given $y_{i} = w_{0} + w_{1}x_{i} +\\epsilon , i = 1 ... n$\n",
    "$$\\sum_{i=1}^{n}\\epsilon^{2} = \\sum_{i=1}^{n}(y_{i} - w_{0} - w_{1}x_{i})$$\n",
    "\n",
    "and we can calculate the following:\n",
    "\n",
    "$$\\frac{\\partial}{\\partial w_{0}} \\sum_{i=1}^{n}\\epsilon^{2} = 0$$\n",
    "and\n",
    "$$\\frac{\\partial}{\\partial w_{1}} \\sum_{i=1}^{n}\\epsilon^{2} = 0$$\n",
    "\n",
    "Doing a whole bunch of tedious maths on these two terms leads to the following results:\n",
    "\n",
    "$$w_{0} = \\frac{1}{n}\\sum_{i=1}^{n}y_{i} - w_{1}\\frac{1}{n}\\sum_{1=2}^{n}x_{i}$$\n",
    "and\n",
    "$$w_{1} = \\frac{\\sum_{i=1}^{n}y_{i}x_{i} - \\frac{(\\sum_{i=1}^{n}y_{i})(\\sum_{i=1}^{n}x_{i})}{n} }{\\sum_{i=1}^{n}x_{i}^{2} - \\frac{(\\sum_{i=1}^{n}x_i)^{2}}{n}}$$"
   ]
  },
  {
   "cell_type": "markdown",
   "metadata": {},
   "source": [
    "Calculating each term individually is simple using the dataframe from earlier."
   ]
  },
  {
   "cell_type": "code",
   "execution_count": 5,
   "metadata": {},
   "outputs": [
    {
     "name": "stdout",
     "output_type": "stream",
     "text": [
      "      X   Y      YX       X2\n",
      "0  2018  50  100900  4072324\n",
      "1  2019  54  109026  4076361\n",
      "2  2020  58  117160  4080400\n",
      "3  2021  55  111155  4084441\n",
      "4  2022  60  121320  4088484\n"
     ]
    }
   ],
   "source": [
    "df['YX'] = df['Y']*df['X']\n",
    "df['X2'] = df['X']*df['X']\n",
    "print(df)"
   ]
  },
  {
   "cell_type": "code",
   "execution_count": 13,
   "metadata": {},
   "outputs": [
    {
     "name": "stdout",
     "output_type": "stream",
     "text": [
      "2.1\n"
     ]
    }
   ],
   "source": [
    "sum_yx = sum(df['YX'])\n",
    "sumy_sumx = sum(df['X'])*sum(df['Y'])\n",
    "sum_x2 = sum(df['X2'])\n",
    "sum_x_2 = (sum(df['X']))*(sum(df['X']))\n",
    "\n",
    "w1 = (sum_yx - (sumy_sumx / len(df.index))) / (sum_x2 - (sum_x_2 / len(df.index)))\n",
    "print(w1)"
   ]
  },
  {
   "cell_type": "code",
   "execution_count": 14,
   "metadata": {},
   "outputs": [
    {
     "name": "stdout",
     "output_type": "stream",
     "text": [
      "-4186.6\n"
     ]
    }
   ],
   "source": [
    "w0 = sum(df['Y']) / (len(df.index)) - (w1/len(df.index))*sum(df['X'])\n",
    "print(w0)"
   ]
  },
  {
   "cell_type": "markdown",
   "metadata": {},
   "source": [
    "This means that we now have a linear equation as follows:\n",
    "\n",
    "$\\hat y = -4186.6 + 2.1\\cdot x$"
   ]
  },
  {
   "cell_type": "markdown",
   "metadata": {},
   "source": [
    "So, in 2024, the predicted revenue is 78.5 million dollars.\n",
    "Of course, we also need to assess the performance and reliability of the linear regression model on unseen data using model validation techniques. It is possible to gain confidence in the ability to make accurate predictions."
   ]
  },
  {
   "cell_type": "markdown",
   "metadata": {},
   "source": [
    "## Simple Linear Regression - Details"
   ]
  },
  {
   "cell_type": "markdown",
   "metadata": {},
   "source": [
    "Predict a quantitative response $Y$ on the basis of a single predictor $X$. Assume a linear relationship, written as:\n",
    "\n",
    "$$ Y \\approx \\beta_{0} + \\beta_{1}X $$\n",
    "\n",
    "For example\n",
    "\n",
    "$$ sales \\approx \\beta_{0} + \\beta_{1} \\times TV $$\n",
    "\n",
    "can be used to regress TV advertising on sales of a product and see the relationship between them.\n",
    "\n",
    "However, we can only estimate the true values, so we write\n",
    "\n",
    "$$ \\hat{y} = \\hat{\\beta_{0}} + \\hat{\\beta_{1}}x $$\n",
    "\n",
    "where $\\hat{y}$ is a prediction of $Y$ on the basis that $X=x$. The true values of $\\beta_{0}$ and $\\beta_{1}$ are unknown, so we estimate them under the condition that we want the above equation to be as close as possible to the true values. This closeness can be measured with the least squares approach.\n",
    "\n",
    "If our linear model is $ \\hat{y} = \\hat{\\beta_{0}} + \\hat{\\beta_{1}}x $ then we have **residuals** for each data point given by\n",
    "\n",
    "$$ e_{i} = y_{i} - \\hat{y_{i}} $$\n",
    "\n",
    "which is the difference between the observed value of the dependent variable and the value of the dependent variable predicted by the model. We can then define a residual sum of squares as:\n",
    "\n",
    "$$ RSS = e_{1}^{2} + e_{2}^{2} + ... e_{n}^{2} $$\n",
    "\n",
    "or\n",
    "\n",
    "$$ RSS = (y_{1} - \\hat{\\beta_{0}} - \\hat{\\beta_{1}}x_{1})^{2} + (y_{2} - \\hat{\\beta_{0}} - \\hat{\\beta_{1}}x_{2})^{2} + ... + (y_{n} - \\hat{\\beta_{0}} - \\hat{\\beta_{1}}x_{n})^{2} $$\n",
    "\n",
    "Minimizing this with calculus, we find:\n",
    "\n",
    "$$\\hat{\\beta_{1}} = \\frac{\\sum_{i=1}^{n}(x_{i} - \\bar{x})(y_{i} - \\bar{y})}{\\sum_{i=1}^{n}(x_{i} - \\bar{x})^2} $$\n",
    "and\n",
    "$$ \\hat{\\beta_{0}} = \\bar{y} - \\hat{\\beta_{1}}\\bar{x} $$\n",
    "\n",
    "Let's take a look at the advertising and sales data below:"
   ]
  },
  {
   "cell_type": "code",
   "execution_count": 6,
   "metadata": {},
   "outputs": [
    {
     "name": "stdout",
     "output_type": "stream",
     "text": [
      "   Unnamed: 0     TV  radio  newspaper  sales\n",
      "0           1  230.1   37.8       69.2   22.1\n",
      "1           2   44.5   39.3       45.1   10.4\n",
      "2           3   17.2   45.9       69.3    9.3\n",
      "3           4  151.5   41.3       58.5   18.5\n",
      "4           5  180.8   10.8       58.4   12.9\n"
     ]
    }
   ],
   "source": [
    "import pandas as pd\n",
    "df = pd.read_csv('Data/advertising.csv')\n",
    "print(df.head())"
   ]
  },
  {
   "cell_type": "code",
   "execution_count": 12,
   "metadata": {},
   "outputs": [
    {
     "name": "stdout",
     "output_type": "stream",
     "text": [
      "Intercept (beta0): 7.032593549127689\n",
      "Slope (beta1): 0.047536640433019785\n"
     ]
    }
   ],
   "source": [
    "from sklearn.linear_model import LinearRegression\n",
    "import numpy as np\n",
    "\n",
    "X = df[['TV']] # Note that X is 2D\n",
    "y = df['sales']\n",
    "\n",
    "model = LinearRegression()\n",
    "model.fit(X, y)\n",
    "print(f\"Intercept (beta0): {model.intercept_}\")\n",
    "print(f\"Slope (beta1): {model.coef_[0]}\")\n",
    "\n",
    "# Predict sales based on the model\n",
    "df['predicted_sales'] = model.predict(X)"
   ]
  },
  {
   "cell_type": "code",
   "execution_count": 11,
   "metadata": {},
   "outputs": [
    {
     "data": {
      "image/png": "[encoded data removed]",
      "text/plain": [
       "<Figure size 1000x600 with 1 Axes>"
      ]
     },
     "metadata": {},
     "output_type": "display_data"
    }
   ],
   "source": [
    "# Plot the regression line and the residuals\n",
    "import matplotlib.pyplot as plt\n",
    "\n",
    "plt.figure(figsize=(10, 6))\n",
    "plt.scatter(df['TV'], df['sales'], color='blue', label='Actual Sales')\n",
    "plt.plot(df['TV'], df['predicted_sales'], color='red', linewidth=2, label='Regression Line')\n",
    "\n",
    "# For adding lines to represent residuals\n",
    "for i in range(len(df)):\n",
    "    plt.plot([df['TV'][i], df['TV'][i]], [df['sales'][i], df['predicted_sales'][i]], 'k--', lw=1)\n",
    "\n",
    "plt.xlabel('Spending on TV Adverts')\n",
    "plt.ylabel('Sales')\n",
    "plt.title('Regression Analysis: Sales ~ TV Ad Spending')\n",
    "plt.legend()\n",
    "plt.show()"
   ]
  },
  {
   "cell_type": "markdown",
   "metadata": {},
   "source": [
    "**No package** Having used a package to do the regression, let us now calculate the coefficients without the help of a package to demonstrate how it is done. To calculate the coefficients we essentially need to program the following:\n",
    "\n",
    "$$\\hat{\\beta_{1}} = \\frac{\\sum_{i=1}^{n}(x_{i} - \\bar{x})(y_{i} - \\bar{y})}{\\sum_{i=1}^{n}(x_{i} - \\bar{x})^2} $$\n",
    "and\n",
    "$$ \\hat{\\beta_{0}} = \\bar{y} - \\hat{\\beta_{1}}\\bar{x} $$"
   ]
  },
  {
   "cell_type": "code",
   "execution_count": 14,
   "metadata": {},
   "outputs": [
    {
     "name": "stdout",
     "output_type": "stream",
     "text": [
      "Calculated Slope (beta1): 0.047536640433019736\n",
      "Calculated Intercept (beta0): 7.0325935491276965\n"
     ]
    }
   ],
   "source": [
    "df2 = pd.read_csv('Data/advertising.csv')\n",
    "\n",
    "# Step 1: Calculate the means of TV and sales\n",
    "x_mean = df['TV'].mean()\n",
    "y_mean = df['sales'].mean()\n",
    "\n",
    "# Step 2: Calculate beta1 (slope)\n",
    "numerator = ((df['TV'] - x_mean) * (df['sales'] - y_mean)).sum()\n",
    "denominator = ((df['TV'] - x_mean) ** 2).sum()\n",
    "beta1 = numerator / denominator\n",
    "\n",
    "# Step 3: Calculate beta0 (intercept)\n",
    "beta0 = y_mean - beta1 * x_mean\n",
    "\n",
    "print(f\"Calculated Slope (beta1): {beta1}\")\n",
    "print(f\"Calculated Intercept (beta0): {beta0}\")"
   ]
  },
  {
   "cell_type": "markdown",
   "metadata": {},
   "source": [
    "### Linear Algebra Approach to Linear Regression\n",
    "\n",
    "Some calculations may be made easier by taking a linear algebra approach to dealing with the data. In general, if we have a lot of data, we can approximate $Y$ as a linear function of $X$ like so\n",
    "\n",
    "$$h_{\\theta}(x) = \\theta_{0} + \\theta_{1}x_{1} + \\theta_{2}x_{2}$$\n",
    "where $\\theta_{i}$'s are the weights or parameters ($\\beta$'s earlier) and $h(x)$ is the predicted value of $y$. If we let $x_{0} = 1$ be the intercept term, then we can write this as a matrix transformation:\n",
    "\n",
    "$$h(x) = \\sum_{i=0}^{n}\\theta_{i}x_{i} = \\theta^{T}x$$\n",
    "\n",
    "Now we can define a **cost function** which is essentially our residual sum of squares from earlier:\n",
    "\n",
    "$$J(\\theta) = \\frac{1}{2}\\sum_{i=1}^{n}(h_{\\theta}(x^{(i)}) - y^{(i)})^{2}$$\n",
    "\n",
    "where the superscript $i$ represents the $i$ th data point. We want to write this cost function in terms of matrices and vectors.\n",
    "\n"
   ]
  },
  {
   "cell_type": "markdown",
   "metadata": {},
   "source": [
    "But first, let's look at these equations in more detail to see precisely what is going on because they are a little opaque as they stand.\n",
    "\n",
    "Imagine we have three data points in the following table\n",
    "| | $x_{0}$ | $x_{1}$ | $x_{2}$ |\n",
    "|---|---|---|---|\n",
    "| $h(x^{(1)})$ | $x_{0}^{(1)}$ | $x_{1}^{(1)}$ | $x_{2}^{(1)}$ |\n",
    "| $h(x^{(2)})$ | $x_{0}^{(2)}$ | $x_{1}^{(2)}$ | $x_{2}^{(2)}$ |\n",
    "| $h(x^{(3)})$ | $x_{0}^{(3)}$ | $x_{1}^{(3)}$ | $x_{2}^{(3)}$ |\n",
    "\n",
    "The superscripts refer to the data points and the subscripts the independent variables, while $h$ is the prediction of $Y$ based on the model.\n",
    "\n",
    "We can see that $h(x^{(1)}) = \\theta_{0}x_{0}^{(1)} + \\theta_{1}x_{1}^{(1)} + \\theta_{2}x_{2}^{(1)}$, remembering that $x_{0}=1$ so that $\\theta_{0}$ is the intercept. This can be written as:\n",
    "\n",
    "$$h(x^{(1)}) = \\begin{pmatrix} \\theta_{0} \\theta_{1} \\theta_{2} \\end{pmatrix} \\begin{pmatrix} x_{0}^{(1)} \\\\ x_{1}^{(1)} \\\\ x_{1}^{(1)} \\end{pmatrix} = \\theta^{T} \\vec{x^{(1)}}$$\n",
    "\n",
    "where we have used the convention that horizontal vectors are the vectors transposed.\n"
   ]
  },
  {
   "cell_type": "markdown",
   "metadata": {},
   "source": [
    "Using this convention, we can also create a *design matrix* X as follows for n data points, i.e., n-rows of data:\n",
    "\n",
    "$$X = \\begin{pmatrix} -(x^{(1)})^{T}- \\\\ -(x^{(2)})^{T}- \\\\ \\vdots  \\\\ -(x^{(n)})^{T}- \\end{pmatrix}$$\n",
    "\n",
    "and let $\\hat{y}$ be the $n$-dimensional vector containing all the observed values:\n",
    "\n",
    "$$\\hat{y} = \\begin{pmatrix} y^{(1)} \\\\ y^{(2)} \\\\ \\vdots \\\\ y^{(n)} \\end{pmatrix} $$\n",
    "\n",
    "Looking back at our three data points as a specific example from earlier, we can relate $X$ and $h(x)$ like so:\n",
    "\n",
    "$$\\begin{pmatrix} h(x^{(1)}) \\\\ h(x^{(2)}) \\\\ h(x^{(3)}) \\end{pmatrix} = \\begin{pmatrix} x_{0}^{(1)} x_{1}^{(1)} x_{2}^{(1)} \\\\ x_{0}^{(2)} x_{1}^{(2)} x_{2}^{(2)} \\\\ x_{0}^{(3)} x_{1}^{(3)} x_{2}^{(3)} \\end{pmatrix} \\begin{pmatrix} \\theta_{0} \\\\ \\theta_{1} \\\\ \\theta_{2} \\end{pmatrix} $$\n",
    "\n",
    "which is essentially like writing\n",
    "\n",
    "$$h(x) = X^{T}\\theta$$\n",
    "notice that the $\\theta$ and the $x$ are switched around here."
   ]
  },
  {
   "cell_type": "markdown",
   "metadata": {},
   "source": [
    "Now we can focus on the linear algebra more concretely and less opaquely.\n",
    "\n",
    "Let's write the following for n data points:\n",
    "\n",
    "$$X\\theta - \\vec{y} = \\begin{pmatrix} (x^{(1)})^T\\theta \\\\ \\vdots \\\\ (x^{(n)})^T\\theta \\end{pmatrix} - \\begin{pmatrix} y^{(1)} \\\\ \\vdots \\\\ y^{(n)} \\end{pmatrix}$$\n",
    "\n",
    "If we multiply the left size by $(X\\theta - \\vec{y})^{T}$, and we use the fact that $z^{T}z = \\sum_{i}z_{i}^{2}$, then we find\n",
    "\n",
    "$$\\frac{1}{2}(x\\theta - \\vec{y})^{T}(x\\theta - \\vec{y}) = \\frac{1}{2}\\sum_{i=1}^{n}(h_{\\theta}(x^{(i)}) - y^{(i)})^2 = J(\\theta)$$\n",
    "\n",
    "In other words, our cost function is now written in terms of matrices and vectors, allowing us to do a little bit of linear algebra. Since we wish to minimize the cost function (residual sum or squares for linear regression), then we should differentiate with respect to theta. Since this is multivariate we use the nabla operator:"
   ]
  },
  {
   "cell_type": "markdown",
   "metadata": {},
   "source": [
    "$$\\vec\\nabla_{\\theta}J(\\theta) = \\frac{1}{2}\\vec\\nabla_{\\theta} (x\\theta - \\vec{y})^{T}(x\\theta - \\vec{y})$$\n",
    "\n",
    "Multiply out the matrices on the right hand side\n",
    "\n",
    "$$\\vec\\nabla_{\\theta}J(\\theta) = \\frac{1}{2}\\vec\\nabla_{\\theta} [ (X\\theta)^{T}(X\\theta) - (X\\theta)^{T}\\vec{y} - \\vec{y}^{T}(X\\theta) + \\vec{y}^{T}\\vec{y} ]$$\n",
    "\n",
    "The first term on the RHS can be written as $\\theta^{T}(X^{T}X)\\theta$, and the second term as $\\vec{y}^{T}(X\\theta)$, giving us:\n",
    "\n",
    "$$\\vec\\nabla_{\\theta}J(\\theta) = \\frac{1}{2}\\vec\\nabla_{\\theta} [ \\theta^{T}(X^{T}X)\\theta - 2\\vec{y}^{T}(X\\theta) +  \\vec{y}^{T}\\vec{y}] $$\n",
    "\n",
    "Now, for the first term on the RHS we can use the fact that, for a symmetric matrix $A$, $\\vec{\\nabla_{x}}x^{T}Ax = 2Ax$, and for the second term we can use the fact that $\\vec{\\nabla_{x}}b^{T}x = b$, so we get\n",
    "$$\\vec\\nabla_{\\theta}J(\\theta) = \\frac{1}{2} [ 2X^{T}X\\theta - 2X^{T}\\vec{y}] $$\n",
    "\n",
    "or\n",
    "$$\\vec\\nabla_{\\theta}J(\\theta) =  X^{T}X\\theta - X^{T}\\vec{y} $$\n",
    "\n",
    "In order to minimize the parameters, we should set this differential to zero, namely:\n",
    "$$X^{T}X\\theta = X^{T}\\vec{y} $$\n",
    "\n",
    "and rearranging gives us the **normal equations**\n",
    "$$\\theta = (X^{T}X)^{-1}X^{T}\\vec{y}$$\n",
    "\n",
    "This means that we can now use matrix operations to calculate the coefficients, which we will try here:"
   ]
  },
  {
   "cell_type": "code",
   "execution_count": 15,
   "metadata": {},
   "outputs": [
    {
     "name": "stdout",
     "output_type": "stream",
     "text": [
      "Calculated intercept (beta0): 7.032593549127724\n",
      "Calculated slope (beta1): 0.04753664043301957\n"
     ]
    }
   ],
   "source": [
    "import pandas as pd\n",
    "import numpy as np\n",
    "\n",
    "# Load in the data\n",
    "df = pd.read_csv('Data/advertising.csv')\n",
    "\n",
    "# Step 1: Prepare the data matrix X and vector y\n",
    "# X should have an intercept (column of ones) and the TV column\n",
    "\n",
    "X = np.c_[np.ones(df.shape[0]), df['TV']]\n",
    "y = df['sales'].values\n",
    "\n",
    "# Step 2: Calculate X^T * X\n",
    "X_transpose = X.T\n",
    "X_transpose_X = X_transpose.dot(X)\n",
    "\n",
    "# Step 3: Calculate (X^T * X)^-1\n",
    "X_transpose_X_inv = np.linalg.inv(X_transpose_X)\n",
    "\n",
    "# Step 4: Calculate X^T y\n",
    "X_transpose_y = X_transpose.dot(y)\n",
    "\n",
    "# Step 5: Calculate the coefficients theta\n",
    "theta = X_transpose_X_inv.dot(X_transpose_y)\n",
    "\n",
    "# Output the coefficients\n",
    "beta0 = theta[0] # intercept\n",
    "beta1 = theta[1] # slope\n",
    "print(f\"Calculated intercept (beta0): {beta0}\")\n",
    "print(f\"Calculated slope (beta1): {beta1}\")"
   ]
  },
  {
   "cell_type": "markdown",
   "metadata": {},
   "source": [
    "### Summary\n",
    "So far, we have looked at three ways of calculating the coefficients\n",
    "1. We have used a package in python to do it for us\n",
    "2. We have used basic calculus in one dimension\n",
    "3. We have used linear algebra with matrix calculus.\n",
    "\n",
    "Calculated intercept (beta0): 7.032593549127724\n",
    "\n",
    "Calculated slope (beta1): 0.04753664043301957\n",
    "\n",
    "All three methods yielded exactly the same result (because they are all essentially the same method, and likely the package uses matrix calculus), but linear algebra makes the calculations much easier when it comes to multilinear regression later 😀. Seeing how it works under the hood makes it much easier to understand what is going on."
   ]
  },
  {
   "cell_type": "code",
   "execution_count": null,
   "metadata": {},
   "outputs": [],
   "source": []
  }
 ],
 "metadata": {
  "kernelspec": {
   "display_name": "Python 3",
   "language": "python",
   "name": "python3"
  },
  "language_info": {
   "codemirror_mode": {
    "name": "ipython",
    "version": 3
   },
   "file_extension": ".py",
   "mimetype": "text/x-python",
   "name": "python",
   "nbconvert_exporter": "python",
   "pygments_lexer": "ipython3",
   "version": "3.9.6"
  }
 },
 "nbformat": 4,
 "nbformat_minor": 2
}
