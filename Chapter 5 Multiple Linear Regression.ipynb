{
 "cells": [
  {
   "cell_type": "markdown",
   "metadata": {},
   "source": [
    "# Multiple Linear Regression\n",
    "\n",
    "In reality, we have more than one predictor variable:"
   ]
  },
  {
   "cell_type": "code",
   "execution_count": 5,
   "metadata": {},
   "outputs": [
    {
     "name": "stdout",
     "output_type": "stream",
     "text": [
      "   Unnamed: 0     TV  radio  newspaper  sales\n",
      "0           1  230.1   37.8       69.2   22.1\n",
      "1           2   44.5   39.3       45.1   10.4\n",
      "2           3   17.2   45.9       69.3    9.3\n",
      "3           4  151.5   41.3       58.5   18.5\n",
      "4           5  180.8   10.8       58.4   12.9\n"
     ]
    }
   ],
   "source": [
    "import pandas as pd\n",
    "import numpy as np\n",
    "\n",
    "df = pd.read_csv(\"Data/Advertising.csv\")\n",
    "print(df.head())"
   ]
  },
  {
   "cell_type": "markdown",
   "metadata": {},
   "source": [
    "In the above, our predictors are TV advertising, radio advertising, and newspaper advertising. An extension of the linear model is:\n",
    "\n",
    "$$Y = \\beta_{0} + \\beta_{1}X_{1} + \\beta_{2}X_{2} + \\cdots + \\beta_{p}X_{p} + \\epsilon$$\n",
    "\n",
    "where we interpret $\\beta_{j}$ as the *average* effect on $Y$ of a one unit increase in $X_{j}$, **holding all other predictors fixed**.\n",
    "\n",
    "For our dataset above, we can write:\n",
    "\n",
    "$$sales = \\beta_{0} + \\beta_{1} \\times TV + \\beta_{2}\\times radio + \\beta_{p}\\times newspaper + \\epsilon$$"
   ]
  },
  {
   "cell_type": "markdown",
   "metadata": {},
   "source": [
    "## Equations and python functions\n",
    "We have already seen the matrix manipulations necessary to find the RSS (residual sum of squares) for multiple regression when looking at simple linear regression and all the functions we looked at there are relevant here. The key equations and programs are reproduced here for reference and use in what follows:\n",
    "\n",
    "$$h_{\\theta}(x) = \\theta_{0} + \\theta_{1}x_{1} + \\theta_{2}x_{2}$$\n",
    "and associated cost function\n",
    "$$J(\\theta) = \\frac{1}{2}\\sum_{i=1}^{n}(h_{\\theta}(x^{(i)}) - y^{(i)})^{2}$$\n",
    "\n",
    "and in matrix form:\n",
    "$$h(x^{(1)}) = \\begin{pmatrix} \\theta_{0} \\theta_{1} \\theta_{2} \\end{pmatrix} \\begin{pmatrix} x_{0}^{(1)} \\\\ x_{1}^{(1)} \\\\ x_{1}^{(1)} \\end{pmatrix} = \\theta^{T} \\vec{x^{(1)}}$$\n",
    "or\n",
    "$$h(x) = X^{T}\\theta$$\n",
    "and for the cost function\n",
    "$$\\frac{1}{2}(x\\theta - \\vec{y})^{T}(x\\theta - \\vec{y}) = \\frac{1}{2}\\sum_{i=1}^{n}(h_{\\theta}(x^{(i)}) - y^{(i)})^2 = J(\\theta)$$\n",
    "\n",
    "The gradient of the cost function can then be calculated:\n",
    "$$\\vec\\nabla_{\\theta}J(\\theta) =  X^{T}X\\theta - X^{T}\\vec{y} $$\n",
    "which gives the normal equations\n",
    "$$\\theta = (X^{T}X)^{-1}X^{T}\\vec{y}$$\n",
    "See the linear regression chapter for a detailed derivation."
   ]
  },
  {
   "cell_type": "code",
   "execution_count": 6,
   "metadata": {},
   "outputs": [],
   "source": [
    "# Define the linear regression function based on the normal equations\n",
    "def linear_regression(X, y):\n",
    "    # Step 2.1: Prepare the design matrix\n",
    "    # X should have an intercept (column of ones) to add the bias term / intercept term\n",
    "    X_design = np.c_[np.ones((X.shape[0], 1)), X]\n",
    "\n",
    "    # Step 2.2: Calculate X^T * X\n",
    "    X_transpose = X_design.T\n",
    "    X_transpose_X = X_transpose.dot(X_design)\n",
    "\n",
    "    # Step 2.3: Calculate (X^T * X)^-1\n",
    "    X_transpose_X_inv = np.linalg.inv(X_transpose_X)\n",
    "\n",
    "    # Step 2.4: Calculate X^T y\n",
    "    X_transpose_y = X_transpose.dot(y)\n",
    "\n",
    "    # Step 2.5: Calculate the coefficients theta\n",
    "    theta = X_transpose_X_inv.dot(X_transpose_y)\n",
    "    return theta\n",
    "\n",
    "# Write the function for RSS and RSE\n",
    "def RSS_RSE_Calc(X, y, coefs):\n",
    "\n",
    "    # Calculate predicted values (y_hat)\n",
    "    X = np.array(X) # ensure numpy array\n",
    "    y = np.array(y) # ensure numpy array\n",
    "    y_hat = np.dot(X, coefs[1:]) + coefs[0]\n",
    "\n",
    "    # Calculate residuals and RSS\n",
    "    residuals = y - y_hat\n",
    "    RSS = np.sum(residuals ** 2)\n",
    "\n",
    "    # Calculate RSE\n",
    "    numDataPoints = len(y)\n",
    "    numCoefficients = len(coefs)\n",
    "    RSE = np.sqrt(RSS / (numDataPoints - numCoefficients))\n",
    "\n",
    "    return RSS, RSE\n",
    "\n",
    "def standard_errors(X, RSE):\n",
    "    if not isinstance(X, pd.DataFrame):\n",
    "        X = pd.DataFrame(X)\n",
    "    \n",
    "    X_with_intercept = np.hstack([np.ones((X.shape[0], 1)), X])\n",
    "    X_with_intercept_df = pd.DataFrame(X_with_intercept, columns=['Intercept'] + list(X.columns))\n",
    "\n",
    "    # Calculate (X^T * X)^(-1)\n",
    "    XtX_inv = np.linalg.inv(np.dot(X_with_intercept_df.T, X_with_intercept_df))\n",
    "\n",
    "    # Standard error calculation\n",
    "    SE_beta = np.sqrt(np.diagonal(RSE**2 * XtX_inv))\n",
    "\n",
    "    return SE_beta\n",
    "\n",
    "from scipy.stats import t\n",
    "def calculate_t_stats_and_p_values(coefs, SE_betas, X):\n",
    "    # Degrees of freedom = number of observation - number of parameters\n",
    "    df = len(X) - len(coefs)\n",
    "    # Calculate t-stats for each coefficient\n",
    "    t_stats = np.array([coef / SE_beta for coef, SE_beta in zip(coefs, SE_betas)])\n",
    "\n",
    "    # Calculate p-values for each coefficient\n",
    "    p_values = np.array([2 * (1 - t.cdf(abs(t_stat), df)) for t_stat in t_stats])\n",
    "\n",
    "    return t_stats, p_values\n",
    "\n",
    "def create_summary_table(coefs, standard_errors, t_stats, p_values, feature_names):\n",
    "    \n",
    "\n",
    "    # Combine all variable names, starting with 'Intercept'\n",
    "    all_variable_names = ['Intercept'] + feature_names\n",
    "\n",
    "    # Create the summary table\n",
    "    summary_table = pd.DataFrame({\n",
    "        'Coefficient': coefs,\n",
    "        'Std. Error': standard_errors,\n",
    "        't-statistic': t_stats,\n",
    "        'p_value': p_values\n",
    "    }, index=all_variable_names)\n",
    "\n",
    "    return summary_table"
   ]
  },
  {
   "cell_type": "markdown",
   "metadata": {},
   "source": [
    "The above are all the functions we need to run the multiple linear regression, so let's try it."
   ]
  },
  {
   "cell_type": "code",
   "execution_count": 8,
   "metadata": {},
   "outputs": [
    {
     "data": {
      "text/html": [
       "<div>\n",
       "<style scoped>\n",
       "    .dataframe tbody tr th:only-of-type {\n",
       "        vertical-align: middle;\n",
       "    }\n",
       "\n",
       "    .dataframe tbody tr th {\n",
       "        vertical-align: top;\n",
       "    }\n",
       "\n",
       "    .dataframe thead th {\n",
       "        text-align: right;\n",
       "    }\n",
       "</style>\n",
       "<table border=\"1\" class=\"dataframe\">\n",
       "  <thead>\n",
       "    <tr style=\"text-align: right;\">\n",
       "      <th></th>\n",
       "      <th>Coefficient</th>\n",
       "      <th>Std. Error</th>\n",
       "      <th>t-statistic</th>\n",
       "      <th>p_value</th>\n",
       "    </tr>\n",
       "  </thead>\n",
       "  <tbody>\n",
       "    <tr>\n",
       "      <th>Intercept</th>\n",
       "      <td>2.938889</td>\n",
       "      <td>0.311908</td>\n",
       "      <td>9.422288</td>\n",
       "      <td>0.000000</td>\n",
       "    </tr>\n",
       "    <tr>\n",
       "      <th>TV</th>\n",
       "      <td>0.045765</td>\n",
       "      <td>0.001395</td>\n",
       "      <td>32.808624</td>\n",
       "      <td>0.000000</td>\n",
       "    </tr>\n",
       "    <tr>\n",
       "      <th>radio</th>\n",
       "      <td>0.188530</td>\n",
       "      <td>0.008611</td>\n",
       "      <td>21.893496</td>\n",
       "      <td>0.000000</td>\n",
       "    </tr>\n",
       "    <tr>\n",
       "      <th>newspaper</th>\n",
       "      <td>-0.001037</td>\n",
       "      <td>0.005871</td>\n",
       "      <td>-0.176715</td>\n",
       "      <td>0.859915</td>\n",
       "    </tr>\n",
       "  </tbody>\n",
       "</table>\n",
       "</div>"
      ],
      "text/plain": [
       "           Coefficient  Std. Error  t-statistic   p_value\n",
       "Intercept     2.938889    0.311908     9.422288  0.000000\n",
       "TV            0.045765    0.001395    32.808624  0.000000\n",
       "radio         0.188530    0.008611    21.893496  0.000000\n",
       "newspaper    -0.001037    0.005871    -0.176715  0.859915"
      ]
     },
     "execution_count": 8,
     "metadata": {},
     "output_type": "execute_result"
    }
   ],
   "source": [
    "features = ['TV', 'radio', 'newspaper']\n",
    "X = df[features].values\n",
    "y = df['sales'].values\n",
    "\n",
    "coefs = linear_regression(X, y)\n",
    "RSS, RSE = RSS_RSE_Calc(X, y, coefs)\n",
    "SE_coefs = standard_errors(X, RSE)\n",
    "t_stats, p_values = calculate_t_stats_and_p_values(coefs, SE_coefs, X)\n",
    "create_summary_table(coefs, SE_coefs, t_stats, p_values, features)"
   ]
  },
  {
   "cell_type": "markdown",
   "metadata": {},
   "source": [
    "**Explanation of the results**\n",
    "\n",
    "- For a given amount of TV and newspaper advertising, spending an additional $1000 on radio advertising is associated with around 189 units of additional sales.\n",
    "- The coefficient estimate for newspaper advertising is very close to zero and the p-value is not significant.\n",
    "- We can plot a correlation matrix (below) and we see that radio and newspaper are strongly correlated (0.35), implying that companies that spend on radio tend to simultaneously spend on radio. This means that newspaper is a surrogate for radio (i.e., running a simple linear regression with only newspaper and sales, we would expect to see a significant relation because it is collinear with radio)."
   ]
  },
  {
   "cell_type": "code",
   "execution_count": 10,
   "metadata": {},
   "outputs": [
    {
     "name": "stdout",
     "output_type": "stream",
     "text": [
      "                 TV     radio  newspaper     sales\n",
      "TV         1.000000  0.054809   0.056648  0.782224\n",
      "radio      0.054809  1.000000   0.354104  0.576223\n",
      "newspaper  0.056648  0.354104   1.000000  0.228299\n",
      "sales      0.782224  0.576223   0.228299  1.000000\n"
     ]
    },
    {
     "data": {
      "image/png": "[encoded data removed]",
      "text/plain": [
       "<Figure size 800x600 with 2 Axes>"
      ]
     },
     "metadata": {},
     "output_type": "display_data"
    }
   ],
   "source": [
    "import seaborn as sns\n",
    "import matplotlib.pyplot as plt\n",
    "corr_matrix = df[['TV', 'radio', 'newspaper', 'sales']].corr()\n",
    "print(corr_matrix)\n",
    "plt.figure(figsize=(8, 6))\n",
    "sns.heatmap(corr_matrix, annot=True, cmap='coolwarm')\n",
    "plt.title('Correlation Matrix')\n",
    "plt.show()"
   ]
  },
  {
   "cell_type": "code",
   "execution_count": null,
   "metadata": {},
   "outputs": [],
   "source": []
  }
 ],
 "metadata": {
  "kernelspec": {
   "display_name": "Python 3",
   "language": "python",
   "name": "python3"
  },
  "language_info": {
   "codemirror_mode": {
    "name": "ipython",
    "version": 3
   },
   "file_extension": ".py",
   "mimetype": "text/x-python",
   "name": "python",
   "nbconvert_exporter": "python",
   "pygments_lexer": "ipython3",
   "version": "3.9.6"
  }
 },
 "nbformat": 4,
 "nbformat_minor": 2
}
