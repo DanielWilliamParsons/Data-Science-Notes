{
 "cells": [
  {
   "cell_type": "markdown",
   "metadata": {},
   "source": [
    "# Principle Component Analysis"
   ]
  },
  {
   "cell_type": "markdown",
   "metadata": {},
   "source": [
    "### PCA Algorithm\n",
    "Be able to explain this for the exam:\n",
    "Some data is often redundant due to the correlations between variables. So, we want to reduce this redundancy. We essentially want to reduce our data from high dimensionality to low dimensionality. We might also want to extract features for a machine learning algorithm, or be able to visualize the data more reliably.\n",
    "\n",
    "**1 Standardize the data**\n",
    "Calculate the mean of each variable and subtract this mean from all the data records in the associated variable. Should probably also divide by the standard deviation.\n",
    "\n",
    "**2 Calculate the covariance matrix**\n",
    "Measure the relationships between pairs of variables, determine the variance and covariance between variables.\n",
    "\n",
    "**3 Calculate the eigenvalues and eigenvectors of the covariance matrix**\n",
    "Eigenvectors represent the direction of maximum variance (what linear combination of original covariance variables gives max variance) in the data while eigenvalues represent the amount of variance explained by each eigenvector.\n",
    "\n",
    "**4 Sort the eigenvalues from the largest to the smallest**\n",
    "The eigenvector that corresponds to the highest eigenvalue is determined as the first principal component of the dataset.\n",
    "\n",
    "**5 Reduce the dimensionality**\n",
    "The Principal Components with less significance are ignored.\n",
    "\n",
    "**6 Transform and reconstruct the dataset**\n",
    "The transformed data can be reconstructed into the original feature space.\n"
   ]
  },
  {
   "cell_type": "code",
   "execution_count": 3,
   "metadata": {},
   "outputs": [
    {
     "name": "stdout",
     "output_type": "stream",
     "text": [
      "    X1   X2\n",
      "0  2.5  2.4\n",
      "1  0.5  0.7\n",
      "2  2.2  2.9\n",
      "3  1.9  2.2\n",
      "4  3.1  3.0\n",
      "5  2.3  2.7\n",
      "6  2.0  1.6\n",
      "7  1.0  1.1\n",
      "8  1.5  1.6\n",
      "9  1.1  0.9\n"
     ]
    }
   ],
   "source": [
    "data = [\n",
    "    {\"X1\": 2.5, \"X2\": 2.4},\n",
    "    {\"X1\": 0.5, \"X2\": 0.7},\n",
    "    {\"X1\": 2.2, \"X2\": 2.9},\n",
    "    {\"X1\": 1.9, \"X2\": 2.2},\n",
    "    {\"X1\": 3.1, \"X2\": 3},\n",
    "    {\"X1\": 2.3, \"X2\": 2.7},\n",
    "    {\"X1\": 2, \"X2\": 1.6},\n",
    "    {\"X1\": 1, \"X2\": 1.1},\n",
    "    {\"X1\": 1.5, \"X2\": 1.6},\n",
    "    {\"X1\": 1.1, \"X2\": 0.9},\n",
    "]\n",
    "\n",
    "import pandas as pd\n",
    "import matplotlib.pyplot as plt\n",
    "df = pd.DataFrame(data)\n",
    "print(df)"
   ]
  },
  {
   "cell_type": "code",
   "execution_count": 7,
   "metadata": {},
   "outputs": [
    {
     "data": {
      "image/png": "[encoded data removed]",
      "text/plain": [
       "<Figure size 640x480 with 1 Axes>"
      ]
     },
     "metadata": {},
     "output_type": "display_data"
    }
   ],
   "source": [
    "# Plot the data\n",
    "plt.scatter(df['X1'], df['X2'])\n",
    "plt.title('Scatter Plot of X1 vs X2')\n",
    "plt.xlabel('X1')\n",
    "plt.ylabel('X2')\n",
    "plt.show()"
   ]
  },
  {
   "cell_type": "markdown",
   "metadata": {},
   "source": [
    "The scatter plot seems to suggest that the diagonal would be a better primary axis as it captures the most important variance of the data records. Since not all the data records are on the diagonal but instead scattered around it, we can expect that the second highest variability of these data records will be orthogonal to the diagonal axis. We can say that the first principal component is expected to be the diagonal and the second principal component is expected to be the axis orthogonal to the diagonal.\n",
    "\n",
    "We could reduce the variables by using only the new diagonal axis and throwing away the axis orthogonal to it."
   ]
  },
  {
   "cell_type": "markdown",
   "metadata": {},
   "source": [
    "### Step 1: Standardize the data"
   ]
  },
  {
   "cell_type": "code",
   "execution_count": 10,
   "metadata": {},
   "outputs": [
    {
     "name": "stdout",
     "output_type": "stream",
     "text": [
      "0.7852105167122736\n",
      "    X1   X2    X1_std    X2_std\n",
      "0  2.5  2.4  0.878745  0.578857\n",
      "1  0.5  0.7 -1.668342 -1.429422\n",
      "2  2.2  2.9  0.496682  1.169527\n",
      "3  1.9  2.2  0.114619  0.342589\n",
      "4  3.1  3.0  1.642872  1.287661\n",
      "5  2.3  2.7  0.624036  0.933259\n",
      "6  2.0  1.6  0.241973 -0.366216\n",
      "7  1.0  1.1 -1.031570 -0.956886\n",
      "8  1.5  1.6 -0.394799 -0.366216\n",
      "9  1.1  0.9 -0.904216 -1.193154\n"
     ]
    }
   ],
   "source": [
    "mean_X1 = df['X1'].mean()\n",
    "mean_X2 = df['X2'].mean()\n",
    "std_X1 = df['X1'].std()\n",
    "std_X2 = df['X2'].std()\n",
    "print(std_X1)\n",
    "\n",
    "df['X1_std'] = (df['X1'] - mean_X1) / std_X1\n",
    "df['X2_std'] = (df['X2'] - mean_X2) / std_X2\n",
    "\n",
    "print(df)"
   ]
  },
  {
   "cell_type": "markdown",
   "metadata": {},
   "source": [
    "### Step 2: Calculate the Covariance Matrix\n",
    "The equation to calculate the covariance is given as follows:\n",
    "\n",
    "$$c_{ij} = \\frac{1}{N-1}\\sum_{k = 1}^{N}(x_{i} - \\bar{x_{i}})_{k}(x_{j} - \\bar{x_{j}})_{k}$$\n",
    "\n",
    "So, for example\n",
    "\n",
    "$$c_{11} = \\frac{1}{N-1}\\sum_{k = 1}^{N}(x_{1} - \\bar{x_{1}})_{k}^{2}$$\n",
    "\n",
    "and\n",
    "\n",
    "$$c_{12} = \\frac{1}{N-1}\\sum_{k = 1}^{N}(x_{1} - \\bar{x_{1}})_{k}(x_{2} - \\bar{x_{2}})_{k}$$\n",
    "\n",
    "We can calculate this in python as follows:"
   ]
  },
  {
   "cell_type": "code",
   "execution_count": 12,
   "metadata": {},
   "outputs": [
    {
     "name": "stdout",
     "output_type": "stream",
     "text": [
      "          X1        X2\n",
      "X1  0.616556  0.615444\n",
      "X2  0.615444  0.716556\n"
     ]
    }
   ],
   "source": [
    "cov_matrix = df[['X1', 'X2']].cov()\n",
    "print(cov_matrix)"
   ]
  },
  {
   "cell_type": "markdown",
   "metadata": {},
   "source": [
    "### Step 3: Calculate the eigenvalues and eigenvectors\n",
    "Let the covariance matrix be called $C$. We want to transform this matrix so that it is a matrix in its own eigenspace. In other words, we want to find the eigenvalues and eigenvectors of this matrix in order to represent the covariance in an eigenspace, giving us orthogonal components that only vary along their components, allowing for dimensionality reduction. Any matrix that has the following property:\n",
    "\n",
    "$$ C\\vec{x} = \\lambda \\vec{x} $$\n",
    "\n",
    "essentially transforms the vector $\\vec{x}$ along its own component; i.e., the transformation simply scales the vector. We therefore need to solve this equation to find the vectors $\\vec{x}$ such that\n",
    "\n",
    "$$ (C - \\lambda \\cdot I) \\vec{x} = \\vec{0} $$\n",
    "\n",
    "where $\\vec{x}$ is not just the trivial solution \\vec{x} = \\vec{0}. This is only satisfied if the matrix $(C - \\lambda \\cdot I)$ is composed of linearly dependent columns/rows, namely:\n",
    "\n",
    "$$ det(C - \\lambda \\cdot I) = 0 $$\n",
    "\n",
    "which would give us a characteristic polynomial in $\\lambda$. It is these values of $\\lambda$ which provide the eigenvalues, which can then be plugged back into the first equation above and solved to yield the eigenvectors. In fact, the matrix $S$ formed by the eigenvectors is related to the eigenvalues through diagonalization of the matrix $C$ as follows: $D = S^{-1}CS$ where $D$ is the diagonal matrix of eigenvalues. This shows that the eigenvalues provide a new basis for the covariance data where the eigenvector matrix is a change of basis matrix. In other words, to get the data into a new form, we use the change of basis matrix $S$ to transform to the new eigenbasis, perform the covariance transformation $C$, then return back to the original basis with $S^{-1}$.\n",
    "\n",
    "$$C - \\lambda \\cdot I = \\begin{pmatrix}0.616556-\\lambda, 0.615444 \\\\ 0.615444, 0.716556 - \\lambda \\end{pmatrix}$$\n",
    "\n",
    "which leads to the characteristic polynomial:\n",
    "\n",
    "$$\\lambda^{2} - 1.333\\lambda + 0.063 = 0$$\n",
    "\n",
    "These can be calculated in python with numpy"
   ]
  },
  {
   "cell_type": "code",
   "execution_count": 13,
   "metadata": {},
   "outputs": [
    {
     "name": "stdout",
     "output_type": "stream",
     "text": [
      "Eigenvalues: [0.0490834  1.28402771]\n"
     ]
    }
   ],
   "source": [
    "import numpy as np\n",
    "eigenvalues, eigenvectors = np.linalg.eig(cov_matrix);\n",
    "print(\"Eigenvalues:\", eigenvalues)"
   ]
  },
  {
   "cell_type": "markdown",
   "metadata": {},
   "source": [
    "These eigenvalues represent the variance explained by each principal component, i.e, the diagonal and its orthogonal line in the example above. The larger the eigenvalue, the more variance that component explains in the data.\n",
    "\n",
    "The eigenvectors (or principal components) are calculated for each eigenvalue in turn. Starting with the largest:\n",
    "\n",
    "$$(C - \\lambda_{1} \\cdot I)\\vec{x_{PC1}} = \\vec{0} $$\n",
    "$$ \\begin{pmatrix} -0.6675, 0.6154 \\\\ 0.6154, -0.5675 \\end{pmatrix} \\begin{pmatrix} x_{PC1_1} \\\\ x_{PC1_2} \\end{pmatrix} = \\begin{pmatrix} 0 \\\\ 0 \\end{pmatrix}$$\n",
    "\n",
    "This leads to $x_{PC1_1} = 1$ and $x_{PC1_2} = 1.084$. Next, normalize these by taking the square root of the sum of squares of both values and using that result to divide the vector, creating a unit vector. We get the following results, as calculated by Python:"
   ]
  },
  {
   "cell_type": "code",
   "execution_count": 14,
   "metadata": {},
   "outputs": [
    {
     "name": "stdout",
     "output_type": "stream",
     "text": [
      "Eigenvectors: [[-0.73517866 -0.6778734 ]\n",
      " [ 0.6778734  -0.73517866]]\n"
     ]
    }
   ],
   "source": [
    "print(\"Eigenvectors:\", eigenvectors)"
   ]
  },
  {
   "cell_type": "markdown",
   "metadata": {},
   "source": [
    "These two eigenvectors are orthogonal (i.e., they are at right-angles on the chart above), which can be demonstrated by taking the dot product of the two eigenvecots and showing that they are equal to zero."
   ]
  },
  {
   "cell_type": "code",
   "execution_count": 16,
   "metadata": {},
   "outputs": [
    {
     "name": "stdout",
     "output_type": "stream",
     "text": [
      "The dot product of the eigenvectors is:  -1.8337180666905926e-17\n"
     ]
    }
   ],
   "source": [
    "eigenvector_1 = eigenvectors[:, 0]\n",
    "eigenvector_2 = eigenvectors[:, 1]\n",
    "dot_product = np.dot(eigenvector_1, eigenvector_2)\n",
    "print(\"The dot product of the eigenvectors is: \", dot_product)"
   ]
  },
  {
   "cell_type": "markdown",
   "metadata": {},
   "source": [
    "which is practically zero."
   ]
  },
  {
   "cell_type": "markdown",
   "metadata": {},
   "source": [
    "### Step 4: Formulate the principle components"
   ]
  },
  {
   "cell_type": "markdown",
   "metadata": {},
   "source": [
    "The first principle component is the eigenvector that corresponds to the eigenvalue with the highest value. We can determine the order of PCs according to their eigenvalues from highest to lowest. This can be done with the following equation that calculates the percentage of variance each principal component represents:\n",
    "\n",
    "$$ H_{PC_{i}} = \\frac{\\lambda_{i}}{\\lambda_{1} + ... + \\lambda_{M}} \\cdot 100% $$"
   ]
  },
  {
   "cell_type": "code",
   "execution_count": 17,
   "metadata": {},
   "outputs": [
    {
     "name": "stdout",
     "output_type": "stream",
     "text": [
      "Percentage of variance for each principal component: \n",
      "Principal Component 1: 3.68%\n",
      "Principal Component 2: 96.32%\n"
     ]
    }
   ],
   "source": [
    "total_variance = np.sum(eigenvalues)\n",
    "variance_percentages = (eigenvalues / total_variance) * 100\n",
    "print(\"Percentage of variance for each principal component: \")\n",
    "for i, variance in enumerate(variance_percentages):\n",
    "    print(f\"Principal Component {i+1}: {variance:.2f}%\")"
   ]
  },
  {
   "cell_type": "markdown",
   "metadata": {},
   "source": [
    "### Step 5: Dimensionality Reduction\n",
    "We can decide to ignore the principal components with less significance, i.e., those that have a lower percentage of the variance. This reduces our dataset to a smaller set of principal components."
   ]
  },
  {
   "cell_type": "markdown",
   "metadata": {},
   "source": [
    "### Step 6: Transforming the original dataset\n",
    "The technique to do this is to create the transformation matrix from the eigenvectors and transform the convariance matrix through matrix multiplication. It is important to note that the transformed data show the same relation. The only difference is the transformation so that the axes are the principal components and not the variables X1 and X2. - Though not sure about this. I can see the data in the textbook shows that the variance of the new matrix is wider for the first component and narrower for the second component, but it doesn't seem useful."
   ]
  },
  {
   "cell_type": "code",
   "execution_count": 21,
   "metadata": {},
   "outputs": [
    {
     "name": "stdout",
     "output_type": "stream",
     "text": [
      "[[-0.8704719  -0.93819557]\n",
      " [-0.03451501 -0.10960293]]\n"
     ]
    }
   ],
   "source": [
    "cov_transformed = np.dot(eigenvectors, cov_matrix)\n",
    "print(cov_transformed)"
   ]
  },
  {
   "cell_type": "markdown",
   "metadata": {},
   "source": []
  }
 ],
 "metadata": {
  "kernelspec": {
   "display_name": "Python 3",
   "language": "python",
   "name": "python3"
  },
  "language_info": {
   "codemirror_mode": {
    "name": "ipython",
    "version": 3
   },
   "file_extension": ".py",
   "mimetype": "text/x-python",
   "name": "python",
   "nbconvert_exporter": "python",
   "pygments_lexer": "ipython3",
   "version": "3.9.6"
  }
 },
 "nbformat": 4,
 "nbformat_minor": 2
}
