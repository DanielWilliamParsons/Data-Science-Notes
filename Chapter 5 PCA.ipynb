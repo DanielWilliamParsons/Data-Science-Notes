{
 "cells": [
  {
   "cell_type": "markdown",
   "metadata": {},
   "source": [
    "# Principle Component Analysis"
   ]
  },
  {
   "cell_type": "markdown",
   "metadata": {},
   "source": [
    "### PCA Algorithm\n",
    "Be able to explain this for the exam:\n",
    "Some data is often redundant due to the correlations between variables. So, we want to reduce this redundancy. We essentially want to reduce our data from high dimensionality to low dimensionality. We might also want to extract features for a machine learning algorithm, or be able to visualize the data more reliably.\n",
    "\n",
    "**1 Standardize the data**\n",
    "Calculate the mean of each variable and subtract this mean from all the data records in the associated variable. Should probably also divide by the standard deviation.\n",
    "\n",
    "**2 Calculate the covariance matrix**\n",
    "Measure the relationships between pairs of variables, determine the variance and covariance between variables.\n",
    "\n",
    "**3 Calculate the eigenvalues and eigenvectors of the covariance matrix**\n",
    "Eigenvectors represent the direction of maximum variance (what linear combination of original covariance variables gives max variance) in the data while eigenvalues represent the amount of variance explained by each eigenvector.\n",
    "\n",
    "**4 Sort the eigenvalues from the largest to the smallest**\n",
    "The eigenvector that corresponds to the highest eigenvalue is determined as the first principal component of the dataset.\n",
    "\n",
    "**5 Reduce the dimensionality**\n",
    "The Principal Components with less significance are ignored.\n",
    "\n",
    "**6 Transform and reconstruct the dataset**\n",
    "The transformed data can be reconstructed into the original feature space.\n"
   ]
  },
  {
   "cell_type": "code",
   "execution_count": 3,
   "metadata": {},
   "outputs": [
    {
     "name": "stdout",
     "output_type": "stream",
     "text": [
      "    X1   X2\n",
      "0  2.5  2.4\n",
      "1  0.5  0.7\n",
      "2  2.2  2.9\n",
      "3  1.9  2.2\n",
      "4  3.1  3.0\n",
      "5  2.3  2.7\n",
      "6  2.0  1.6\n",
      "7  1.0  1.1\n",
      "8  1.5  1.6\n",
      "9  1.1  0.9\n"
     ]
    }
   ],
   "source": [
    "data = [\n",
    "    {\"X1\": 2.5, \"X2\": 2.4},\n",
    "    {\"X1\": 0.5, \"X2\": 0.7},\n",
    "    {\"X1\": 2.2, \"X2\": 2.9},\n",
    "    {\"X1\": 1.9, \"X2\": 2.2},\n",
    "    {\"X1\": 3.1, \"X2\": 3},\n",
    "    {\"X1\": 2.3, \"X2\": 2.7},\n",
    "    {\"X1\": 2, \"X2\": 1.6},\n",
    "    {\"X1\": 1, \"X2\": 1.1},\n",
    "    {\"X1\": 1.5, \"X2\": 1.6},\n",
    "    {\"X1\": 1.1, \"X2\": 0.9},\n",
    "]\n",
    "\n",
    "import pandas as pd\n",
    "import matplotlib.pyplot as plt\n",
    "df = pd.DataFrame(data)\n",
    "print(df)"
   ]
  },
  {
   "cell_type": "code",
   "execution_count": 7,
   "metadata": {},
   "outputs": [
    {
     "data": {
      "image/png": "[encoded data removed]",
      "text/plain": [
       "<Figure size 640x480 with 1 Axes>"
      ]
     },
     "metadata": {},
     "output_type": "display_data"
    }
   ],
   "source": [
    "# Plot the data\n",
    "plt.scatter(df['X1'], df['X2'])\n",
    "plt.title('Scatter Plot of X1 vs X2')\n",
    "plt.xlabel('X1')\n",
    "plt.ylabel('X2')\n",
    "plt.show()"
   ]
  },
  {
   "cell_type": "markdown",
   "metadata": {},
   "source": [
    "The scatter plot seems to suggest that the diagonal would be a better primary axis as it captures the most important variance of the data records. Since not all the data records are on the diagonal but instead scattered around it, we can expect that the second highest variability of these data records will be orthogonal to the diagonal axis. We can say that the first principal component is expected to be the diagonal and the second principal component is expected to be the axis orthogonal to the diagonal.\n",
    "\n",
    "We could reduce the variables by using only the new diagonal axis and throwing away the axis orthogonal to it."
   ]
  },
  {
   "cell_type": "markdown",
   "metadata": {},
   "source": [
    "### Step 1: Standardize the data"
   ]
  },
  {
   "cell_type": "code",
   "execution_count": 10,
   "metadata": {},
   "outputs": [
    {
     "name": "stdout",
     "output_type": "stream",
     "text": [
      "0.7852105167122736\n",
      "    X1   X2    X1_std    X2_std\n",
      "0  2.5  2.4  0.878745  0.578857\n",
      "1  0.5  0.7 -1.668342 -1.429422\n",
      "2  2.2  2.9  0.496682  1.169527\n",
      "3  1.9  2.2  0.114619  0.342589\n",
      "4  3.1  3.0  1.642872  1.287661\n",
      "5  2.3  2.7  0.624036  0.933259\n",
      "6  2.0  1.6  0.241973 -0.366216\n",
      "7  1.0  1.1 -1.031570 -0.956886\n",
      "8  1.5  1.6 -0.394799 -0.366216\n",
      "9  1.1  0.9 -0.904216 -1.193154\n"
     ]
    }
   ],
   "source": [
    "mean_X1 = df['X1'].mean()\n",
    "mean_X2 = df['X2'].mean()\n",
    "std_X1 = df['X1'].std()\n",
    "std_X2 = df['X2'].std()\n",
    "print(std_X1)\n",
    "\n",
    "df['X1_std'] = (df['X1'] - mean_X1) / std_X1\n",
    "df['X2_std'] = (df['X2'] - mean_X2) / std_X2\n",
    "\n",
    "print(df)"
   ]
  },
  {
   "cell_type": "markdown",
   "metadata": {},
   "source": [
    "### Step 2: Calculate the Covariance Matrix\n",
    "The equation to calculate the covariance is given as follows:\n",
    "\n",
    "$$c_{ij} = \\frac{1}{N-1}\\sum_{k = 1}^{N}(x_{i} - \\bar{x_{i}})_{k}(x_{j} - \\bar{x_{j}})_{k}$$\n",
    "\n",
    "So, for example\n",
    "\n",
    "$$c_{11} = \\frac{1}{N-1}\\sum_{k = 1}^{N}(x_{1} - \\bar{x_{1}})_{k}^{2}$$\n",
    "\n",
    "and\n",
    "\n",
    "$$c_{12} = \\frac{1}{N-1}\\sum_{k = 1}^{N}(x_{1} - \\bar{x_{1}})_{k}(x_{2} - \\bar{x_{2}})_{k}$$\n",
    "\n",
    "We can calculate this in python as follows:"
   ]
  },
  {
   "cell_type": "code",
   "execution_count": 12,
   "metadata": {},
   "outputs": [
    {
     "name": "stdout",
     "output_type": "stream",
     "text": [
      "          X1        X2\n",
      "X1  0.616556  0.615444\n",
      "X2  0.615444  0.716556\n"
     ]
    }
   ],
   "source": [
    "cov_matrix = df[['X1', 'X2']].cov()\n",
    "print(cov_matrix)"
   ]
  },
  {
   "cell_type": "markdown",
   "metadata": {},
   "source": [
    "### Step 3: Calculate the eigenvalues and eigenvectors\n",
    "Let the covariance matrix be called $C$. We want to transform this matrix so that it is a matrix in its own eigenspace. In other words, we want to find the eigenvalues and eigenvectors of this matrix in order to represent the covariance in an eigenspace, giving us orthogonal components that only vary along their components, allowing for dimensionality reduction. Any matrix that has the following property:\n",
    "\n",
    "$$ C\\vec{x} = \\lambda \\vec{x} $$\n",
    "\n",
    "essentially transforms the vector $\\vec{x}$ along its own component; i.e., the transformation simply scales the vector. We therefore need to solve this equation to find the vectors $\\vec{x}$ such that\n",
    "\n",
    "$$ (C - \\lambda \\cdot I) \\vec{x} = \\vec{0} $$\n",
    "\n",
    "where $\\vec{x}$ is not just the trivial solution \\vec{x} = \\vec{0}. This is only satisfied if the matrix $(C - \\lambda \\cdot I)$ is composed of linearly dependent columns/rows, namely:\n",
    "\n",
    "$$ det(C - \\lambda \\cdot I) = 0 $$\n",
    "\n",
    "which would give us a characteristic polynomial in $\\lambda$. It is these values of $\\lambda$ which provide the eigenvalues, which can then be plugged back into the first equation above and solved to yield the eigenvectors. In fact, the matrix $S$ formed by the eigenvectors is related to the eigenvalues through diagonalization of the matrix $C$ as follows: $D = S^{-1}CS$ where $D$ is the diagonal matrix of eigenvalues. This shows that the eigenvalues provide a new basis for the covariance data where the eigenvector matrix is a change of basis matrix. In other words, to get the data into a new form, we use the change of basis matrix $S$ to transform to the new eigenbasis, perform the covariance transformation $C$, then return back to the original basis with $S^{-1}$.\n",
    "\n",
    "$$C - \\lambda \\cdot I = \\begin{pmatrix}0.616556-\\lambda, 0.615444 \\\\ 0.615444, 0.716556 - \\lambda \\end{pmatrix}$$\n",
    "\n",
    "which leads to the characteristic polynomial:\n",
    "\n",
    "$$\\lambda^{2} - 1.333\\lambda + 0.063 = 0$$\n",
    "\n",
    "These can be calculated in python with numpy"
   ]
  },
  {
   "cell_type": "code",
   "execution_count": 13,
   "metadata": {},
   "outputs": [
    {
     "name": "stdout",
     "output_type": "stream",
     "text": [
      "Eigenvalues: [0.0490834  1.28402771]\n"
     ]
    }
   ],
   "source": [
    "import numpy as np\n",
    "eigenvalues, eigenvectors = np.linalg.eig(cov_matrix);\n",
    "print(\"Eigenvalues:\", eigenvalues)"
   ]
  },
  {
   "cell_type": "markdown",
   "metadata": {},
   "source": [
    "These eigenvalues represent the variance explained by each principal component, i.e, the diagonal and its orthogonal line in the example above. The larger the eigenvalue, the more variance that component explains in the data.\n",
    "\n",
    "The eigenvectors (or principal components) are calculated for each eigenvalue in turn. Starting with the largest:\n",
    "\n",
    "$$(C - \\lambda_{1} \\cdot I)\\vec{x_{PC1}} = \\vec{0} $$\n",
    "$$ \\begin{pmatrix} -0.6675, 0.6154 \\\\ 0.6154, -0.5675 \\end{pmatrix} \\begin{pmatrix} x_{PC1_1} \\\\ x_{PC1_2} \\end{pmatrix} = \\begin{pmatrix} 0 \\\\ 0 \\end{pmatrix}$$\n",
    "\n",
    "This leads to $x_{PC1_1} = 1$ and $x_{PC1_2} = 1.084$. Next, normalize these by taking the square root of the sum of squares of both values and using that result to divide the vector, creating a unit vector. We get the following results, as calculated by Python:"
   ]
  },
  {
   "cell_type": "code",
   "execution_count": 14,
   "metadata": {},
   "outputs": [
    {
     "name": "stdout",
     "output_type": "stream",
     "text": [
      "Eigenvectors: [[-0.73517866 -0.6778734 ]\n",
      " [ 0.6778734  -0.73517866]]\n"
     ]
    }
   ],
   "source": [
    "print(\"Eigenvectors:\", eigenvectors)"
   ]
  },
  {
   "cell_type": "markdown",
   "metadata": {},
   "source": [
    "These two eigenvectors are orthogonal (i.e., they are at right-angles on the chart above), which can be demonstrated by taking the dot product of the two eigenvecots and showing that they are equal to zero."
   ]
  },
  {
   "cell_type": "code",
   "execution_count": 16,
   "metadata": {},
   "outputs": [
    {
     "name": "stdout",
     "output_type": "stream",
     "text": [
      "The dot product of the eigenvectors is:  -1.8337180666905926e-17\n"
     ]
    }
   ],
   "source": [
    "eigenvector_1 = eigenvectors[:, 0]\n",
    "eigenvector_2 = eigenvectors[:, 1]\n",
    "dot_product = np.dot(eigenvector_1, eigenvector_2)\n",
    "print(\"The dot product of the eigenvectors is: \", dot_product)"
   ]
  },
  {
   "cell_type": "markdown",
   "metadata": {},
   "source": [
    "which is practically zero."
   ]
  },
  {
   "cell_type": "markdown",
   "metadata": {},
   "source": [
    "### Step 4: Formulate the principle components"
   ]
  },
  {
   "cell_type": "markdown",
   "metadata": {},
   "source": [
    "The first principle component is the eigenvector that corresponds to the eigenvalue with the highest value. We can determine the order of PCs according to their eigenvalues from highest to lowest. This can be done with the following equation that calculates the percentage of variance each principal component represents:\n",
    "\n",
    "$$ H_{PC_{i}} = \\frac{\\lambda_{i}}{\\lambda_{1} + ... + \\lambda_{M}} \\cdot 100% $$"
   ]
  },
  {
   "cell_type": "code",
   "execution_count": 17,
   "metadata": {},
   "outputs": [
    {
     "name": "stdout",
     "output_type": "stream",
     "text": [
      "Percentage of variance for each principal component: \n",
      "Principal Component 1: 3.68%\n",
      "Principal Component 2: 96.32%\n"
     ]
    }
   ],
   "source": [
    "total_variance = np.sum(eigenvalues)\n",
    "variance_percentages = (eigenvalues / total_variance) * 100\n",
    "print(\"Percentage of variance for each principal component: \")\n",
    "for i, variance in enumerate(variance_percentages):\n",
    "    print(f\"Principal Component {i+1}: {variance:.2f}%\")"
   ]
  },
  {
   "cell_type": "markdown",
   "metadata": {},
   "source": [
    "### Step 5: Dimensionality Reduction\n",
    "We can decide to ignore the principal components with less significance, i.e., those that have a lower percentage of the variance. This reduces our dataset to a smaller set of principal components."
   ]
  },
  {
   "cell_type": "markdown",
   "metadata": {},
   "source": [
    "### Step 6: Transforming the original dataset\n",
    "The technique to do this is to create the transformation matrix from the eigenvectors and transform the convariance matrix through matrix multiplication. It is important to note that the transformed data show the same relation. The only difference is the transformation so that the axes are the principal components and not the variables X1 and X2. - Though not sure about this. I can see the data in the textbook shows that the variance of the new matrix is wider for the first component and narrower for the second component, but it doesn't seem useful."
   ]
  },
  {
   "cell_type": "code",
   "execution_count": 21,
   "metadata": {},
   "outputs": [
    {
     "name": "stdout",
     "output_type": "stream",
     "text": [
      "[[-0.8704719  -0.93819557]\n",
      " [-0.03451501 -0.10960293]]\n"
     ]
    }
   ],
   "source": [
    "cov_transformed = np.dot(eigenvectors, cov_matrix)\n",
    "print(cov_transformed)"
   ]
  },
  {
   "cell_type": "markdown",
   "metadata": {},
   "source": [
    "# PCA From First Principles\n",
    "Let's generate some random data in two dimensions, each with mean values of 5 and variance of 4, but the correlations will be different for each data set."
   ]
  },
  {
   "cell_type": "code",
   "execution_count": 6,
   "metadata": {},
   "outputs": [
    {
     "data": {
      "image/png": "[encoded data removed]",
      "text/plain": [
       "<Figure size 800x600 with 1 Axes>"
      ]
     },
     "metadata": {},
     "output_type": "display_data"
    },
    {
     "data": {
      "image/png": "[encoded data removed]",
      "text/plain": [
       "<Figure size 800x600 with 1 Axes>"
      ]
     },
     "metadata": {},
     "output_type": "display_data"
    },
    {
     "data": {
      "image/png": "[encoded data removed]",
      "text/plain": [
       "<Figure size 800x600 with 1 Axes>"
      ]
     },
     "metadata": {},
     "output_type": "display_data"
    }
   ],
   "source": [
    "import numpy as np\n",
    "\n",
    "# Define parameters\n",
    "mean = [5, 5]\n",
    "variance = 3\n",
    "std_dev = np.sqrt(variance)\n",
    "num_samples = 30\n",
    "\n",
    "# Correlation coefficients\n",
    "correlations = [0.8, 0.3, -0.8]\n",
    "\n",
    "# Function generate the dataset\n",
    "def gen_dataset(mean, std_dev, correlation, num_samples):\n",
    "    cov = correlation * (std_dev ** 2)\n",
    "    covariance_matrix = [[variance, cov], [cov, variance]]\n",
    "    return np.random.multivariate_normal(mean, covariance_matrix, num_samples)\n",
    "\n",
    "# Generate datasets\n",
    "datasets = []\n",
    "for corr in correlations:\n",
    "    datasets.append(gen_dataset(mean, std_dev, corr, num_samples))\n",
    "\n",
    "dataset_0_8 = datasets[0]\n",
    "dataset_0_3 = datasets[1]\n",
    "dataset_minus_0_8 = datasets[2]\n",
    "\n",
    "# Plot the data\n",
    "import matplotlib.pyplot as plt\n",
    "\n",
    "def plot_dataset(dataset):\n",
    "    x_vals = dataset[:, 0]\n",
    "    y_vals = dataset[:, 1]\n",
    "\n",
    "    mean_x = np.mean(x_vals)\n",
    "    mean_y = np.mean(y_vals)\n",
    "    var_x = np.var(x_vals)\n",
    "    var_y = np.var(y_vals)\n",
    "    std_dev_x = np.sqrt(var_x)\n",
    "    std_dev_y = np.sqrt(var_y)\n",
    "\n",
    "    # Plot the scatter plot\n",
    "    plt.figure(figsize=(8, 6))\n",
    "    plt.scatter(x_vals, y_vals, alpha=0.7, label='Data Points')\n",
    "\n",
    "    # Plot the yellow horizontal line\n",
    "    plt.plot([mean_x - std_dev_x, mean_x + std_dev_x], [mean_y, mean_y], color='yellow', linestyle='-', linewidth=2)\n",
    "\n",
    "    # Plot the red vertical line\n",
    "    plt.plot([mean_x, mean_x], [mean_y - std_dev_y, mean_y + std_dev_y], color='red', linestyle='-', linewidth=2)\n",
    "\n",
    "    # Highlight the mean point\n",
    "    plt.scatter(mean_x, mean_y, color='blue', s=100, zorder=5, label='Mean')\n",
    "\n",
    "    # Add labels and legends\n",
    "    plt.xlabel('X')\n",
    "    plt.ylabel('Y')\n",
    "    plt.title('Scatter plot with variance lines')\n",
    "    plt.legend()\n",
    "    plt.grid(True)\n",
    "\n",
    "    plt.show()\n",
    "\n",
    "plot_dataset(dataset_0_8)\n",
    "plot_dataset(dataset_0_3)\n",
    "plot_dataset(dataset_minus_0_8)\n"
   ]
  },
  {
   "cell_type": "markdown",
   "metadata": {},
   "source": [
    "As we can see in all three charts, the data looks completely different in all three cases, but the mean value and the variances are the same despite the different shapes of the data. The red line shows the variance in the y-direction and the yellow line shows the variance in the x-direction.\n",
    "\n",
    "This means a better way to characterize the data is with the covariance:\n",
    "\n",
    "$$Cov(X, Y) = \\mathbb{E} \\left[(x - \\mu_{x})(y - \\mu_{y})\\right]$$\n",
    "\n",
    "We can then write the covariance matrix for this two dimensional data\n",
    "\n",
    "$$ Cov \\vec{X} = \\begin{pmatrix} Var(X) & Cov(X, Y) \\\\ Cov(Y, X) & Var(Y) \\end{pmatrix}$$\n",
    "\n",
    "- For a positive covariance, on average the y-value increases if we increase x.\n",
    "- For a negative covariance, on average the y-value decreases if we increase x.\n",
    "- If covariance is zero, then X and Y have nothing to do with each other.\n",
    "\n",
    "Covariance matrix is always **symmetric positive definite** with variances always on the diagonal and covariances on the off diagonal.\n",
    "\n",
    "It is simple to expand this to a d-dimensional dataset. Imagine that we have a d-dimensional dataset D where each $x$ is a vector of d-dimensions:\n",
    "\n",
    "$$ D = \\{x_{1}, \\cdots, x_{N}\\}, x_{i} \\in \\mathbb{R}^{d} $$\n",
    "\n",
    "then we can calculate the covariance matrix of the data as:\n",
    "\n",
    "$$Cov[D] = \\frac{1}{N}\\sum_{i=1}^{N}(\\vec{x_{i}} - \\vec{\\mu})(\\vec{x_{i}} - \\vec{\\mu})^T $$\n",
    "\n",
    "which is a $d\\times d$ matrix."
   ]
  },
  {
   "cell_type": "markdown",
   "metadata": {},
   "source": [
    "### Some basic operations with mean and variance\n",
    "If we have a dataset $D = \\{x_{1}, x_{2}, ... , x_{n}\\}, x_{i} \\in \\mathbb{R}^d $ and then the transformation by matrix $A$ and shift by vector $\\vec{b}$ results in transformations of the mean and covariance matrix as follows\n",
    "\n",
    "$$\\boxed{\\mathbb{E}\\left[AD + \\vec{b}\\right] = A\\mathbb{E}\\left[D\\right] + \\vec{b}} $$\n",
    "and if we let $X$ represent the random vector as a transformation of the dataset $D$ such that $X = AD + \\vec{b}$ then we can use the definition of covariance as follows:\n",
    "\n",
    "$$Cov(X) = \\mathbb{E}\\left[(X - \\mathbb{E}\\left[X\\right])(X - \\mathbb{E}\\left[X\\right])^{T}\\right]$$\n",
    "\n",
    "Using the transformation and the formula for the mean of the transformation, we can write\n",
    "$$\\begin{align*} \n",
    "    Cov(X) \n",
    "    &= \\mathbb{E}\\left[(AD + \\vec{b} - \\mathbb{E}\\left[AD + \\vec{b}\\right])(AD + \\vec{b} - \\mathbb{E}\\left[AD + \\vec{b}\\right])^{T}\\right] \\\\\n",
    "    &= \\mathbb{E}\\left[(AD + \\vec{b} - A\\mathbb{E}\\left[D\\right] - \\vec{b})(AD + \\vec{b} - A\\mathbb{E}\\left[D\\right] - \\vec{b})^{T}\\right] \\\\\n",
    "    &= A\\mathbb{E}\\left[(D - \\mathbb{E}\\left[D\\right])(D - \\mathbb{E}\\left[D\\right])^{T}\\right]A^{T}\n",
    "\\end{align*}$$\n",
    "where we have cancelled the $\\vec{b}$'s in the second step and taken the matrix $A$ outside of the expectation in the third step since it is a matrix of constants, not random variables. The term in the middle of the third line is now simply $Cov(D)$ so we rewrite this as\n",
    "$$\\boxed{ Cov(X) = ACov(D)A^{T} }$$\n"
   ]
  },
  {
   "cell_type": "markdown",
   "metadata": {},
   "source": [
    "### Some basic numpy operations\n",
    "**Arrays, matrices and shapes**: The following are some basic numpy operations that are useful when programming for linear algebra."
   ]
  },
  {
   "cell_type": "code",
   "execution_count": 8,
   "metadata": {},
   "outputs": [
    {
     "name": "stdout",
     "output_type": "stream",
     "text": [
      "This is a basic array: [1 2 3]\n",
      "The shape of the array is like this: (3,)\n",
      "This means there are three items in the array.\n"
     ]
    }
   ],
   "source": [
    "# Arrays and their shapes\n",
    "array = np.array([1, 2, 3])\n",
    "print(f\"This is a basic array: {array}\")\n",
    "print(f\"The shape of the array is like this: {array.shape}\")\n",
    "print(\"This means there are three items in the array.\")"
   ]
  },
  {
   "cell_type": "code",
   "execution_count": 10,
   "metadata": {},
   "outputs": [
    {
     "name": "stdout",
     "output_type": "stream",
     "text": [
      "This is a matrix: \n",
      " [[ 1  2  3]\n",
      " [ 4  5  6]\n",
      " [ 7  8  9]\n",
      " [10 11 12]]\n",
      "The shape of the matrix is like this: (4, 3)\n"
     ]
    }
   ],
   "source": [
    "matrix = np.array([[1, 2, 3],\n",
    "                   [4, 5, 6],\n",
    "                   [7, 8, 9],\n",
    "                   [10, 11, 12]])\n",
    "print(f\"This is a matrix: \\n {matrix}\")\n",
    "print(f\"The shape of the matrix is like this: {matrix.shape}\")"
   ]
  },
  {
   "cell_type": "markdown",
   "metadata": {},
   "source": [
    "As we can see, the shape of the matrix is defined in the same way as in mathematics, with row x column, i.e, $A \\in \\mathbb{R^{4 \\times 3}}$. Let's make some matrices of ones and zeros using shapes information:"
   ]
  },
  {
   "cell_type": "code",
   "execution_count": 13,
   "metadata": {},
   "outputs": [
    {
     "name": "stdout",
     "output_type": "stream",
     "text": [
      "zero array: \n",
      " [0. 0. 0. 0. 0.]\n",
      "zero matrix: \n",
      " [[0. 0. 0.]\n",
      " [0. 0. 0.]]\n",
      "ones matrix: \n",
      " [[1. 1.]\n",
      " [1. 1.]\n",
      " [1. 1.]]\n"
     ]
    }
   ],
   "source": [
    "zero_array = np.zeros((5,)) # Will make [0 0 0 0 0]\n",
    "zero_matrix = np.zeros((2, 3))\n",
    "ones_matrix = np.ones((3, 2))\n",
    "print(f\"zero array: \\n {zero_array}\")\n",
    "print(f\"zero matrix: \\n {zero_matrix}\")\n",
    "print(f\"ones matrix: \\n {ones_matrix}\")"
   ]
  },
  {
   "cell_type": "markdown",
   "metadata": {},
   "source": [
    "**Reshaping arrays into column vectors, row vectors and matrices**\n",
    "\n",
    "Another way to make an array is with arange. We can then reshape it into a matrix form"
   ]
  },
  {
   "cell_type": "code",
   "execution_count": 16,
   "metadata": {},
   "outputs": [
    {
     "name": "stdout",
     "output_type": "stream",
     "text": [
      "np.arrange(4) looks like this: [0 1 2 3]\n",
      "It has the following shape: (4,)\n"
     ]
    }
   ],
   "source": [
    "range_array = np.arange(4)\n",
    "print(f\"np.arrange(4) looks like this: {range_array}\")\n",
    "print(f\"It has the following shape: {range_array.shape}\")"
   ]
  },
  {
   "cell_type": "code",
   "execution_count": 15,
   "metadata": {},
   "outputs": [
    {
     "name": "stdout",
     "output_type": "stream",
     "text": [
      "reshape((-1, 1)) has changed the array into a column vector:\n",
      " [[0]\n",
      " [1]\n",
      " [2]\n",
      " [3]]\n",
      "with the following shape: \n",
      " (4, 1)\n"
     ]
    }
   ],
   "source": [
    "reshaped_range_array = range_array.reshape((-1, 1))\n",
    "print(f\"reshape((-1, 1)) has changed the array into a column vector:\\n {reshaped_range_array}\")\n",
    "print(f\"with the following shape: \\n {reshaped_range_array.shape}\")"
   ]
  },
  {
   "cell_type": "code",
   "execution_count": 17,
   "metadata": {},
   "outputs": [
    {
     "name": "stdout",
     "output_type": "stream",
     "text": [
      "reshape((-1, 1)) has changed the array into a row vector:\n",
      " [[0 1 2 3]]\n",
      "with the following shape: \n",
      " (1, 4)\n"
     ]
    }
   ],
   "source": [
    "reshaped_range_array2 = range_array.reshape((1, -1))\n",
    "print(f\"reshape((-1, 1)) has changed the array into a row vector:\\n {reshaped_range_array2}\")\n",
    "print(f\"with the following shape: \\n {reshaped_range_array2.shape}\")"
   ]
  },
  {
   "cell_type": "markdown",
   "metadata": {},
   "source": [
    "Let's examine some operations to access values within a matrix."
   ]
  },
  {
   "cell_type": "code",
   "execution_count": 18,
   "metadata": {},
   "outputs": [
    {
     "name": "stdout",
     "output_type": "stream",
     "text": [
      "We have reshaped a range of 9 values into a 3x3 matrix: \n",
      " [[0 1 2]\n",
      " [3 4 5]\n",
      " [6 7 8]]\n"
     ]
    }
   ],
   "source": [
    "sq_matrix = np.arange(9).reshape(3, 3)\n",
    "print(f\"We have reshaped a range of 9 values into a 3x3 matrix: \\n {sq_matrix}\")"
   ]
  },
  {
   "cell_type": "code",
   "execution_count": 23,
   "metadata": {},
   "outputs": [
    {
     "name": "stdout",
     "output_type": "stream",
     "text": [
      "Element at 0th row and 0th column: 0\n",
      "Element at 1st row and 1st column: 4\n",
      "Element at 2nd row and 1st column: 7\n",
      "Element at 0th row and 2nd column: 2\n"
     ]
    }
   ],
   "source": [
    "print(f\"Element at 0th row and 0th column: {sq_matrix[0, 0]}\")\n",
    "print(f\"Element at 1st row and 1st column: {sq_matrix[1, 1]}\")\n",
    "print(f\"Element at 2nd row and 1st column: {sq_matrix[2, 1]}\")\n",
    "print(f\"Element at 0th row and 2nd column: {sq_matrix[0, 2]}\")"
   ]
  },
  {
   "cell_type": "code",
   "execution_count": 28,
   "metadata": {},
   "outputs": [
    {
     "name": "stdout",
     "output_type": "stream",
     "text": [
      "The matrix looks like this:\n",
      " [[ 0  1  2  3]\n",
      " [ 4  5  6  7]\n",
      " [ 8  9 10 11]\n",
      " [12 13 14 15]]\n",
      "The first column of the matrix: \n",
      " [ 1  5  9 13]\n",
      "The first column of the matrix reshaped to a column vector: \n",
      " [[ 1]\n",
      " [ 5]\n",
      " [ 9]\n",
      " [13]]\n",
      "The third row of the matric reshaped to a row vector: \n",
      " [[12 13 14 15]]\n"
     ]
    }
   ],
   "source": [
    "sq_matrix2 = np.arange(16).reshape(4, 4)\n",
    "print(f\"The matrix looks like this:\\n {sq_matrix2}\")\n",
    "print(f\"The first column of the matrix: \\n {sq_matrix2[:, 1]}\")\n",
    "print(f\"The first column of the matrix reshaped to a column vector: \\n {sq_matrix2[:, 1].reshape(-1, 1)}\")\n",
    "print(f\"The third row of the matric reshaped to a row vector: \\n {sq_matrix2[3, :].reshape(1, -1)}\")"
   ]
  },
  {
   "cell_type": "markdown",
   "metadata": {},
   "source": [
    "**Numpy operations on arrays/matrices**"
   ]
  },
  {
   "cell_type": "code",
   "execution_count": 35,
   "metadata": {},
   "outputs": [
    {
     "name": "stdout",
     "output_type": "stream",
     "text": [
      "Matrix addition is elementwise: \n",
      " [[ 7 17 12]\n",
      " [10  8  3]]\n",
      "Matrix multiplication is elementwise: \n",
      " [[ 6 72 32]\n",
      " [21 15  2]]\n",
      "Matrix division is elementwise: \n",
      " [[6.         1.125      2.        ]\n",
      " [2.33333333 0.6        0.5       ]]\n",
      "Matrix exponentiation is elementwise: \n",
      " [[       6 43046721     4096]\n",
      " [     343      243        1]]\n"
     ]
    }
   ],
   "source": [
    "matrix1 = np.array([[6, 9, 8],\n",
    "             [7, 3, 1]])\n",
    "matrix2 = np.array([[1, 8, 4],\n",
    "                   [3, 5, 2]])\n",
    "\n",
    "print(f\"Matrix addition is elementwise: \\n {matrix1 + matrix2}\")\n",
    "print(f\"Matrix multiplication is elementwise: \\n {matrix1 * matrix2}\")\n",
    "print(f\"Matrix division is elementwise: \\n {matrix1 / matrix2}\")\n",
    "print(f\"Matrix exponentiation is elementwise: \\n {matrix1 ** matrix2}\")"
   ]
  },
  {
   "cell_type": "markdown",
   "metadata": {},
   "source": [
    "We can also use numpy to perform linear algebra operations as follows.\n",
    "\n",
    "**Transpose**"
   ]
  },
  {
   "cell_type": "code",
   "execution_count": 41,
   "metadata": {},
   "outputs": [
    {
     "name": "stdout",
     "output_type": "stream",
     "text": [
      "[[0 1 2]]\n",
      "[[ 3  6  9]\n",
      " [12 15 18]]\n",
      "The transpose of mat2 is: \n",
      " [[ 3 12]\n",
      " [ 6 15]\n",
      " [ 9 18]] and its shape is (3, 2)\n",
      "The transpose of mat is: \n",
      " [[0]\n",
      " [1]\n",
      " [2]] and its shape is (3, 1)\n"
     ]
    }
   ],
   "source": [
    "mat = np.arange(3).reshape((1,3))\n",
    "mat2 = np.arange(3, 21, 3).reshape((2,3)) #arange(start, stop, step)\n",
    "mat_transpose = mat.T\n",
    "mat2_transpose = mat2.T\n",
    "print(mat)\n",
    "print(mat2)\n",
    "print(f\"The transpose of mat2 is: \\n {mat2_transpose} and its shape is {mat2_transpose.shape}\")\n",
    "print(f\"The transpose of mat is: \\n {mat_transpose} and its shape is {mat_transpose.shape}\")"
   ]
  },
  {
   "cell_type": "markdown",
   "metadata": {},
   "source": [
    "**Dot Product and Matrix Product**"
   ]
  },
  {
   "cell_type": "code",
   "execution_count": 43,
   "metadata": {},
   "outputs": [
    {
     "name": "stdout",
     "output_type": "stream",
     "text": [
      "Dot product of two arrays: 32\n",
      "Alternative style: 32\n"
     ]
    }
   ],
   "source": [
    "x = np.array([1, 2, 3])\n",
    "y = np.array([4, 5, 6])\n",
    "print(f\"Dot product of two arrays: {np.dot(x, y)}\")\n",
    "print(f\"Alternative style: {x @ y}\")"
   ]
  },
  {
   "cell_type": "code",
   "execution_count": 46,
   "metadata": {},
   "outputs": [
    {
     "name": "stdout",
     "output_type": "stream",
     "text": [
      "[[ 2  4  6]\n",
      " [ 8 10 12]\n",
      " [14 16 18]]\n",
      "[[ 3  6  9]\n",
      " [12 15 18]\n",
      " [21 24 27]]\n",
      "Matrix multiplication: \n",
      " [[180 216 252]\n",
      " [396 486 576]\n",
      " [612 756 900]]\n"
     ]
    }
   ],
   "source": [
    "A = np.arange(2, 20, 2).reshape((3,3))\n",
    "B = np.arange(3, 30, 3).reshape((3,3))\n",
    "print(A)\n",
    "print(B)\n",
    "print(f\"Matrix multiplication: \\n {A@B}\")"
   ]
  },
  {
   "cell_type": "markdown",
   "metadata": {},
   "source": [
    "**Other linear algebra operations in numpy**"
   ]
  },
  {
   "cell_type": "code",
   "execution_count": 50,
   "metadata": {},
   "outputs": [
    {
     "name": "stdout",
     "output_type": "stream",
     "text": [
      "Determinant operation:  -7.612957883143941e-15\n",
      "Inverse operation: \n",
      "  [[ 1.57625987e+15 -3.15251974e+15  1.57625987e+15]\n",
      " [-3.15251974e+15  6.30503948e+15 -3.15251974e+15]\n",
      " [ 1.57625987e+15 -3.15251974e+15  1.57625987e+15]]\n",
      "Eigenvalues: \n",
      "  [ 3.22336879e+01 -2.23368794e+00 -1.71654867e-15]\n",
      "Eigenvectors: \n",
      "  [[-0.23197069 -0.78583024  0.40824829]\n",
      " [-0.52532209 -0.08675134 -0.81649658]\n",
      " [-0.8186735   0.61232756  0.40824829]]\n"
     ]
    }
   ],
   "source": [
    "print(f\"Determinant operation:  {np.linalg.det(A)}\")\n",
    "print(f\"Inverse operation: \\n  {np.linalg.inv(A)}\")\n",
    "eigenvalues, eigenvectors = np.linalg.eig(A)\n",
    "print(f\"Eigenvalues: \\n  {eigenvalues}\")\n",
    "print(f\"Eigenvectors: \\n  {eigenvectors}\")"
   ]
  },
  {
   "cell_type": "markdown",
   "metadata": {},
   "source": [
    "**Useful data science manipulations**"
   ]
  },
  {
   "cell_type": "code",
   "execution_count": 65,
   "metadata": {},
   "outputs": [
    {
     "name": "stdout",
     "output_type": "stream",
     "text": [
      "The min value in the data: 1\n",
      "The sum of each column returned as an array: \n",
      " [11  5 10]\n",
      "The sum of each column returned as a matrix: \n",
      " [[11  5 10]]\n",
      "The sum of each row returned as a matrix: \n",
      " [[ 6]\n",
      " [20]]\n"
     ]
    }
   ],
   "source": [
    "data = np.array([[2, 1, 3],\n",
    "                 [9, 4, 7]])\n",
    "print(f\"The min value in the data: {np.min(data)}\")\n",
    "print(f\"The sum of each column returned as an array: \\n {np.sum(data, axis=0)}\")\n",
    "print(f\"The sum of each column returned as a matrix: \\n {np.sum(data, axis=0, keepdims=True)}\")\n",
    "print(f\"The sum of each row returned as a matrix: \\n {np.sum(data, axis=1, keepdims=True)}\")"
   ]
  },
  {
   "cell_type": "code",
   "execution_count": 66,
   "metadata": {},
   "outputs": [
    {
     "name": "stdout",
     "output_type": "stream",
     "text": [
      "[5.5 2.5 5. ]\n",
      "[3.5 1.5 2. ]\n",
      "The normalized version of the data matrix above is \n",
      ": [[-1. -1. -1.]\n",
      " [ 1.  1.  1.]]\n"
     ]
    }
   ],
   "source": [
    "def normalize(x):\n",
    "    \"\"\"\n",
    "    Normalize all the columns of the matrix x\n",
    "    Arguments:\n",
    "    x: A numpy array with any number of dimensions\n",
    "    Returns:\n",
    "    c: The normalized numpy array\n",
    "    \"\"\"\n",
    "\n",
    "    mean = np.mean(x, axis=0) # Finding the mean of each column\n",
    "    print(mean)\n",
    "    sigma = np.std(x, axis=0) # Finding the std of each column\n",
    "    print(sigma)\n",
    "    c = (x - mean) / sigma\n",
    "    return c\n",
    "print(f\"The normalized version of the data matrix above is \\n: {normalize(data)}\")"
   ]
  },
  {
   "cell_type": "markdown",
   "metadata": {},
   "source": [
    "*Something is wrong with the above - fix later : /*"
   ]
  },
  {
   "cell_type": "markdown",
   "metadata": {},
   "source": [
    "## Mean and Covariance Using Numpy"
   ]
  },
  {
   "cell_type": "code",
   "execution_count": 7,
   "metadata": {},
   "outputs": [],
   "source": [
    "import numpy as np\n",
    "import matplotlib\n",
    "import matplotlib.pyplot as plt\n",
    "matplotlib.style.use('fivethirtyeight')\n",
    "from sklearn.datasets import fetch_olivetti_faces\n",
    "import time\n",
    "import timeit\n",
    "%matplotlib inline"
   ]
  },
  {
   "cell_type": "markdown",
   "metadata": {},
   "source": [
    "Let's take a look at the olivetti faces dataset by considering\n",
    "1. The size of the dataset\n",
    "2. The dimensionality of the dataset"
   ]
  },
  {
   "cell_type": "code",
   "execution_count": 20,
   "metadata": {},
   "outputs": [
    {
     "name": "stdout",
     "output_type": "stream",
     "text": [
      "Shape of the faces dataset: (400, 4096)\n",
      "400 data points\n",
      "[[0.30991736 0.3677686  0.41735536 ... 0.15289256 0.16115703 0.1570248 ]\n",
      " [0.45454547 0.47107437 0.5123967  ... 0.15289256 0.15289256 0.15289256]\n",
      " [0.3181818  0.40082645 0.49173555 ... 0.14049587 0.14876033 0.15289256]\n",
      " ...\n",
      " [0.5        0.53305787 0.607438   ... 0.17768595 0.14876033 0.19008264]\n",
      " [0.21487603 0.21900827 0.21900827 ... 0.57438016 0.59090906 0.60330576]\n",
      " [0.5165289  0.46280992 0.28099173 ... 0.35950413 0.3553719  0.38429752]]\n"
     ]
    }
   ],
   "source": [
    "image_shape = (64, 64) # because each data point representing a face image is 4096 in length\n",
    "dataset = fetch_olivetti_faces(data_home='./')\n",
    "faces = dataset.data\n",
    "\n",
    "print(f'Shape of the faces dataset: {faces.shape}')\n",
    "print(f'{faces.shape[0]} data points')"
   ]
  },
  {
   "cell_type": "code",
   "execution_count": 12,
   "metadata": {},
   "outputs": [],
   "source": [
    "from ipywidgets import interact"
   ]
  },
  {
   "cell_type": "code",
   "execution_count": 18,
   "metadata": {},
   "outputs": [],
   "source": [
    "def show_face(face):\n",
    "    plt.figure()\n",
    "    plt.imshow(face.reshape((64, 64)), cmap='gray')\n",
    "    plt.show()"
   ]
  },
  {
   "cell_type": "code",
   "execution_count": 16,
   "metadata": {},
   "outputs": [
    {
     "data": {
      "application/vnd.jupyter.widget-view+json": {
       "model_id": "ae8575f49d394858ad2a53229e51869f",
       "version_major": 2,
       "version_minor": 0
      },
      "text/plain": [
       "interactive(children=(IntSlider(value=0, description='n', max=399), Output()), _dom_classes=('widget-interact'…"
      ]
     },
     "metadata": {},
     "output_type": "display_data"
    },
    {
     "data": {
      "image/png": "[encoded data removed]",
      "text/plain": [
       "<Figure size 640x480 with 1 Axes>"
      ]
     },
     "metadata": {},
     "output_type": "display_data"
    }
   ],
   "source": [
    "@interact(n=(0, len(faces) - 1))\n",
    "def display_faces(n=0):\n",
    "    plt.figure()\n",
    "    plt.imshow(faces[n].reshape((64,64)), cmap='gray')\n",
    "    plt.show()\n",
    "display_faces()"
   ]
  },
  {
   "cell_type": "markdown",
   "metadata": {},
   "source": [
    "**Mean**: We can calculate the mean of each column (each face), which gives an *average face*.\n",
    "There are two ways to do it - a naive way looping over each column, or simply allowing vectorization to do it for us."
   ]
  },
  {
   "cell_type": "code",
   "execution_count": 44,
   "metadata": {},
   "outputs": [
    {
     "name": "stdout",
     "output_type": "stream",
     "text": [
      "[0.40013433 0.43423554 0.47628099 ... 0.32141531 0.3136467  0.31045455]\n",
      "(4096,)\n",
      "[0.40013435 0.43423545 0.4762809  ... 0.32141536 0.3136469  0.31045464]\n"
     ]
    }
   ],
   "source": [
    "def mean_naive(X):\n",
    "    \"\"\"Computes the sample mean for a dataset by iterating over the dataset.\n",
    "    \n",
    "    Arguments:\n",
    "        X: `ndarray` is matrix of shape (N, D) where N is\n",
    "        the number of data points and D is the dimensionality of each point.\n",
    "    Returns:\n",
    "        mean: `ndarray` of shape (D, ), the sample mean of each row\n",
    "    \"\"\"\n",
    "    # Create matrix of zeros first\n",
    "    mean = np.zeros(X.shape[1]) # Same length as number of columns of matrix - here 4096\n",
    "    for n in range(X.shape[1]): # Loop over each column\n",
    "        mean[n] = np.mean(X[:, n]) # Take the mean of each column and place it in the mean array\n",
    "    return mean\n",
    "\n",
    "# This computes the mean using vectorization\n",
    "def mean(X):\n",
    "    mean = np.sum(X, axis=0) / X.shape[0]\n",
    "    # m = np.mean(X, axis=0)\n",
    "    return mean\n",
    "\n",
    "m = mean_naive(faces)\n",
    "print(m)\n",
    "print(m.shape)\n",
    "m1 = mean(faces)\n",
    "print(m1)"
   ]
  },
  {
   "cell_type": "markdown",
   "metadata": {},
   "source": [
    "We see that vectorization above makes life much simpler for us.\n",
    "Let's try the same vectorization strategy for the covariance matrix, remembering that the covariance matrix is given by: $Cov[D] = \\frac{1}{N}\\sum_{i=1}^{N}(\\vec{x_{i}} - \\vec{\\mu})(\\vec{x_{i}} - \\vec{\\mu})^T $"
   ]
  },
  {
   "cell_type": "code",
   "execution_count": 41,
   "metadata": {},
   "outputs": [],
   "source": [
    "def cov(X):\n",
    "    N, D = X.shape\n",
    "    x_mean = mean(X)\n",
    "    X_centered = X - x_mean\n",
    "    print(X_centered.T)\n",
    "    print(X_centered)\n",
    "    x_cov = (1/N) * ((X - x_mean).T @ (X - x_mean))\n",
    "    return x_cov\n",
    "\n",
    "# Quick tests\n",
    "# X = np.array([[0., 1.], \n",
    "#               [1., 2.],\n",
    "#               [0., 1.], \n",
    "#               [1., 2.]])\n",
    "# c = cov(X)\n",
    "# print(c)"
   ]
  },
  {
   "cell_type": "markdown",
   "metadata": {},
   "source": [
    "Now we can see what the average face looks like"
   ]
  },
  {
   "cell_type": "code",
   "execution_count": 42,
   "metadata": {},
   "outputs": [
    {
     "data": {
      "text/plain": [
       "<matplotlib.image.AxesImage at 0x14490e3a0>"
      ]
     },
     "execution_count": 42,
     "metadata": {},
     "output_type": "execute_result"
    },
    {
     "data": {
      "image/png": "[encoded data removed]",
      "text/plain": [
       "<Figure size 640x480 with 1 Axes>"
      ]
     },
     "metadata": {},
     "output_type": "display_data"
    }
   ],
   "source": [
    "def mean_face(faces):\n",
    "    return faces.mean(axis=0).reshape((64, 64))\n",
    "plt.imshow(mean_face(faces), cmap='gray')"
   ]
  },
  {
   "cell_type": "code",
   "execution_count": 45,
   "metadata": {},
   "outputs": [
    {
     "name": "stdout",
     "output_type": "stream",
     "text": [
      "CPU times: user 219 µs, sys: 61 µs, total: 280 µs\n",
      "Wall time: 242 µs\n",
      "CPU times: user 275 µs, sys: 266 µs, total: 541 µs\n",
      "Wall time: 348 µs\n"
     ]
    },
    {
     "data": {
      "text/plain": [
       "array([ 0.00910092,  0.01472631, -0.01668906, -0.01014312,  0.01113703,\n",
       "       -0.06008725,  0.02647761,  0.00955681,  0.06149283,  0.01358893,\n",
       "        0.01492792, -0.01847673, -0.00460969, -0.01852756,  0.00333887,\n",
       "        0.01395167, -0.00228116, -0.00260642,  0.00058705,  0.01044263])"
      ]
     },
     "execution_count": 45,
     "metadata": {},
     "output_type": "execute_result"
    }
   ],
   "source": [
    "# Checking time for using naive mean and vectorized mean\n",
    "X = np.random.randn(1000, 20)\n",
    "%time mean_naive(X)\n",
    "%time mean(X)\n",
    "# Well, well, well! Naive version seems faster here!!!"
   ]
  },
  {
   "cell_type": "markdown",
   "metadata": {},
   "source": [
    "### Affine transformations\n",
    "We know the following from earlier: If $X = AD + \\vec{b}$ where $A$ is a matrix\n",
    "$$\\boxed{ Cov(X) = ACov(D)A^{T} }$$\n",
    "$$\\boxed{\\mathbb{E}\\left[AD + \\vec{b}\\right] = A\\mathbb{E}\\left[D\\right] + \\vec{b}} $$\n"
   ]
  },
  {
   "cell_type": "code",
   "execution_count": 46,
   "metadata": {},
   "outputs": [],
   "source": [
    "def affine_mean(mean, A, b):\n",
    "    affine_mean = A@mean + b\n",
    "    return affine_mean\n",
    "\n",
    "def affine_cov(S, A):\n",
    "    \"\"\"\n",
    "    Args:\n",
    "        S: original covariance matrix of shape (D, D)\n",
    "        A: matrix of shape (D, D)\n",
    "    Return:\n",
    "        affine transformation of covariance matrix with shape (D, D)\n",
    "    \"\"\"\n",
    "    affine_S = A @ S @ A.T\n",
    "    return affine_S"
   ]
  },
  {
   "cell_type": "markdown",
   "metadata": {},
   "source": [
    "## Inner Products\n",
    "\n",
    "$$x^{T}y = \\sum_{i=1}^{N}x_{i}y_{i}, x, y \\in \\mathbb{R}^N$$\n",
    "$$||x|| = \\sqrt{x^{T}x}$$\n",
    "\n",
    "Distance between two vectors\n",
    "$$d(x, y) = ||x - y|| = \\sqrt{(x - y)^{T}(x - y)}$$\n",
    "and if $\\alpha$ is the angle between the two vectors then\n",
    "$$cos\\alpha = \\frac{x^{T}y}{||x|| ||y||}"
   ]
  },
  {
   "cell_type": "markdown",
   "metadata": {},
   "source": [
    "Above, inner product was defined in terms of vectors.\n",
    "More abstractly, an inner product is a symmetric positive definite bilinear mapping.\n",
    "\n",
    "$$x, y \\in V$$\n",
    "$$\\left<\\cdot , \\cdot\\right>: V\\times V \\Rightarrow \\mathbb{R}$$\n",
    "- symmetric\n",
    "- positive definite\n",
    "- bilinear\n",
    "\n",
    "**Bilinear**\n",
    "\n",
    "This means linearity in *both* arguments of the function\n",
    "$$x, y, z \\in V, \\lambda \\in \\mathbb{R}$$\n",
    "$$\\left<\\lambda x + z, y\\right> = \\lambda\\left<x, y\\right> + \\left<z, y\\right>$$\n",
    "$$\\left<x, \\lambda y + z\\right> = \\lambda\\left<x, y\\right> + \\left<x, z\\right>$$\n",
    "\n",
    "**Positive Definite**\n",
    "\n",
    "$$\\left<x,x\\right> \\geq 0, \\left<x,x\\right> = 0 \\Leftrightarrow x = 0$$\n",
    "\n",
    "**Symmetry**\n",
    "$$\\left<x, y\\right> = \\left<y, x\\right>$$"
   ]
  },
  {
   "cell_type": "markdown",
   "metadata": {},
   "source": [
    "Based on this more general definition, we can see that there are different ways to write inner products. For example:\n",
    "- The standard dot product $\\left<x,y\\right> = x^{T}y$\n",
    "- $\\left<x,y\\right> = x^{T}Ay$\n",
    "\n",
    "Both are valid because they are both symmetric positive definite bilinear operations as defined above, but with the second, we have to make sure the matrix A is such that the inner product satisfies the above conditions."
   ]
  },
  {
   "cell_type": "markdown",
   "metadata": {},
   "source": [
    "**Example**\n",
    "\n",
    "If we are given a vector $\\vec{x} = \\begin{pmatrix} 1 \\\\ -1 \\\\ 3 \\end{pmatrix}$ and an inner product defined as $\\left<\\vec{a},\\vec{b}\\right> = \\vec{a}^{T}\\begin{bmatrix} 2 & 1 & 0 \\\\ 1 & 2 & -1 \\\\ 0 & -1 & 2 \\end{bmatrix}\\vec{b}$, then we can use our definition of the norm above to calculate the length of the vector under this inner product.\n",
    "\n",
    "We can find the angle between two vectors using the standard definition above, but for different dot products:\n",
    "\n",
    "$$cos\\alpha = \\frac{x^{T}Ay}{||x||\\cdot||y||}$$\n",
    "\n",
    "The python code for these properties of inner products are below, accounting for a more general definition of the inner product.\n",
    "\n",
    "Usually a basis is such that the angle between the vectors than span the vector space are at 90 degrees, i.e., they are orthogonal. However, in a space that has a different definition of the inner product, the vectors might not be orthogonal, requiring us to find another basis.\n",
    "\n",
    "The orthonormal basis is just the orthogonal basis that has been normalized."
   ]
  },
  {
   "cell_type": "code",
   "execution_count": 56,
   "metadata": {},
   "outputs": [
    {
     "name": "stdout",
     "output_type": "stream",
     "text": [
      "The length of [ 1 -1  3] is 5.0990195135927845\n",
      "The distance between [ 1 -1  3] and [4 2 1] is 8.602325267042627\n",
      "The angle between [1 1] and [-1  1] is 1.9106332362490186\n",
      "The angle between [1 1 1] and [ 2 -1  0] under [[ 1  0  0]\n",
      " [ 0  2 -1]\n",
      " [ 0 -1  3]] is 1.3652273956337226\n"
     ]
    }
   ],
   "source": [
    "def inner_product(a,b, A):\n",
    "    return a.T @ (A @ b)\n",
    "\n",
    "def distance_between_vectors(a, b, A):\n",
    "    vec = b-a\n",
    "    in_prod = inner_product(vec, vec, A)\n",
    "    return np.sqrt(in_prod)\n",
    "\n",
    "def vector_length(a,A):\n",
    "    in_prod = inner_product(a, a, A)\n",
    "    return np.sqrt(in_prod)\n",
    "\n",
    "def angle_between_vectors(a, b, A):\n",
    "    angle = np.arccos((a.T @ (A @ b)) / (vector_length(a, A)*vector_length(b, A)))\n",
    "    return angle\n",
    "\n",
    "a = np.array([1,-1,3])\n",
    "b = np.array([4, 2, 1])\n",
    "A = np.array([[2,1,0],[1,2,-1],[0,-1,2]])\n",
    "print(f\"The length of {a} is {vector_length(a, A)}\")\n",
    "print(f\"The distance between {a} and {b} is {distance_between_vectors(a, b, A)}\")\n",
    "\n",
    "B = np.array([[2, 0],[0, 1]])\n",
    "x = np.array([1,1])\n",
    "y = np.array([-1,1])\n",
    "print(f\"The angle between {x} and {y} is {angle_between_vectors(x, y, B)}\")\n",
    "\n",
    "x = np.array([1, 1, 1])\n",
    "y = np.array([2,-1, 0])\n",
    "A = np.array([[1,0, 0],[0,2,-1],[0,-1,3]])\n",
    "print(f\"The angle between {x} and {y} under {A} is {angle_between_vectors(x, y, A)}\")\n"
   ]
  },
  {
   "cell_type": "markdown",
   "metadata": {},
   "source": [
    "## Projections\n",
    "Conditions of projections\n",
    "1. $\\exists\\lambda\\in\\mathbb{R} : \\Pi_{u}(\\vec{x}) = \\lambda\\vec{b}$\n",
    "2. $\\left<\\vec{b}, \\Pi_{u}(\\vec{x}) - \\vec{x} \\right> = 0$ (orthogonality)\n",
    "A 2D representation of these conditions is as follows:\n",
    "\n",
    "![alt text](images/Projections.png \"2D vector representation of projections\")\n",
    "\n",
    "Given the second condition:\n",
    "$$\\left<\\vec{b}, \\Pi_{u}(\\vec{x}) - \\vec{x} \\right> = 0$$\n",
    "$$\\Leftrightarrow \\left< \\vec{b},\\Pi_{u(\\vec{x})} \\right> - \\left<\\vec{b}, \\vec{x}\\right> = 0$$\n",
    "$$\\Leftrightarrow \\left< \\vec{b},\\lambda \\vec{b} \\right> - \\left<\\vec{b}, \\vec{x}\\right> = 0$$\n",
    "$$\\Leftrightarrow \\lambda ||b||^{2} - \\left< \\vec{b}, \\vec{x}\\right> = 0$$\n",
    "$$\\Leftrightarrow \\lambda = \\frac{\\left< \\vec{b},\\vec{x} \\right>}{||\\vec{b}||^{2}}$$\n",
    "So, from the first condition:\n",
    "$$\\Rightarrow \\Pi_{u}(\\vec{x}) = \\lambda \\vec{b} = \\frac{\\left<\\vec{b},\\vec{x}\\right>}{||\\vec{b}||^{2}}\\vec{b} = \\frac{\\vec{b}^{T}\\vec{x}\\vec{b}}{||\\vec{b||^{2}}} = \\frac{\\vec{b}\\vec{b}^{T}}{||\\vec{b}||^{2}}\\vec{x}$$"
   ]
  },
  {
   "cell_type": "markdown",
   "metadata": {},
   "source": [
    "In other words, $\\frac{\\vec{b}\\vec{b}^{T}}{||\\vec{b}||^{2}}$ is a projection matrix (known as an outer product, or similarly it is the dyadic tensor product in which a 1D vector with a 1D vector will result in a 2D matrix) from the full space onto a one dimensional line. Our original vector $\\vec{x}$ is still in its space, but we only need a single coordinate to represent it once it has been projected. We can write our functions in python for this like so:"
   ]
  },
  {
   "cell_type": "code",
   "execution_count": 66,
   "metadata": {},
   "outputs": [
    {
     "name": "stdout",
     "output_type": "stream",
     "text": [
      "The projection of [1 2] onto the vector that spans [2 1] is [1.6 0.8]\n"
     ]
    }
   ],
   "source": [
    "def proj(x, b):\n",
    "    # proj_u = (np.dot(b, x) / np.linalg.norm(b)**2) * b # This is the same as below\n",
    "    proj_matrix = np.outer(b, b) / (np.linalg.norm(b)**2) # outer product\n",
    "    proj_u = proj_matrix @ x\n",
    "    return proj_u\n",
    "\n",
    "b = np.array([2,1])\n",
    "x = np.array([1,2])\n",
    "print(f\"The projection of {x} onto the vector that spans {b} is {proj(x, b)}\")"
   ]
  },
  {
   "cell_type": "markdown",
   "metadata": {},
   "source": [
    "We can also say that the **reconstruction error** after projecting the vector onto its one dimensional subspace is the distance between the projection of the vector and the original vector itself."
   ]
  },
  {
   "cell_type": "markdown",
   "metadata": {},
   "source": [
    "## Projections in multiple dimensions\n",
    "\n",
    "The following shows a projection in 3D space onto a 2D surface.\n",
    "\n",
    "![alt text](images/Projection2D.png \"Projection in 3D onto a 2D surface\")\n",
    "\n",
    "Looking at this example will allow us to generalize the projection calculations given above to multiple dimensions that is useful for handling datasets with a large number of dimensions.\n",
    "\n"
   ]
  },
  {
   "cell_type": "code",
   "execution_count": null,
   "metadata": {},
   "outputs": [],
   "source": []
  }
 ],
 "metadata": {
  "kernelspec": {
   "display_name": "Python 3",
   "language": "python",
   "name": "python3"
  },
  "language_info": {
   "codemirror_mode": {
    "name": "ipython",
    "version": 3
   },
   "file_extension": ".py",
   "mimetype": "text/x-python",
   "name": "python",
   "nbconvert_exporter": "python",
   "pygments_lexer": "ipython3",
   "version": "3.9.6"
  }
 },
 "nbformat": 4,
 "nbformat_minor": 2
}
